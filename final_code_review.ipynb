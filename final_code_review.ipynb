{
 "cells": [
  {
   "cell_type": "markdown",
   "id": "5f3ade44",
   "metadata": {},
   "source": [
    "## [8강]"
   ]
  },
  {
   "cell_type": "code",
   "execution_count": 2,
   "id": "5fb36101",
   "metadata": {},
   "outputs": [
    {
     "name": "stdout",
     "output_type": "stream",
     "text": [
      "<이름: Riam, 나이: 20>\n",
      "<이름: Annie, 나이: 35>\n",
      "<이름: Nick, 나이: 38>\n"
     ]
    }
   ],
   "source": [
    "class Person(object):\n",
    "    def __init__(self, name, age):\n",
    "        self.name = name\n",
    "        self.age = age\n",
    "    def __str__(self):\n",
    "        return \"<이름: %s, 나이: %s>\" % (self.name, self.age)\n",
    "    \n",
    "def keyAge(person):\n",
    "    return person.age\n",
    "\n",
    "people = [Person(\"Riam\",20), Person(\"Annie\", 35), Person(\"Nick\", 38)]\n",
    "for p in sorted(people, key = keyAge):\n",
    "    print(p)"
   ]
  },
  {
   "cell_type": "code",
   "execution_count": 3,
   "id": "0ab4ee17",
   "metadata": {},
   "outputs": [
    {
     "name": "stdout",
     "output_type": "stream",
     "text": [
      "[-17.77777777777778, -12.222222222222223, -6.666666666666667, -1.1111111111111112, 4.444444444444445, 10.0]\n"
     ]
    }
   ],
   "source": [
    "f_temp = [0, 10, 20, 30, 40, 50]\n",
    "\n",
    "c_temp = map(lambda x : (5/9)*(x-32), f_temp)\n",
    "\n",
    "print(list(c_temp))"
   ]
  },
  {
   "cell_type": "code",
   "execution_count": 4,
   "id": "92803160",
   "metadata": {},
   "outputs": [
    {
     "name": "stdout",
     "output_type": "stream",
     "text": [
      "[('1', 600000), ('2', 144000), ('3', 150000), ('4', 1800000)]\n"
     ]
    }
   ],
   "source": [
    "orders = [ [\"1\", \"jacket\", 5, 120000],\n",
    "           [\"2\", \"mtm\", 6, 24000], \n",
    "           [\"3\", \"pants\", 3, 50000], \n",
    "           [\"4\", \"coat\", 6, 300000] ]\n",
    "\n",
    "result = list(map(lambda x: (x[0], x[2] * x[3]), orders)) # 여기 식에 괄호 빼먹으면 안됨..\n",
    "print(result)"
   ]
  },
  {
   "cell_type": "code",
   "execution_count": 5,
   "id": "4b01e0be",
   "metadata": {},
   "outputs": [
    {
     "name": "stdout",
     "output_type": "stream",
     "text": [
      "2 4 6 8 10 "
     ]
    }
   ],
   "source": [
    "class EvenCounter():\n",
    "    def __init__(self, low, high):\n",
    "        self.current = low if low % 2 == 0 else low + 1\n",
    "        self.high = high\n",
    "        \n",
    "    def __iter__(self):\n",
    "        return self\n",
    "    \n",
    "    def __next__(self):\n",
    "        if self.current > self.high:\n",
    "            raise StopIteration\n",
    "        else:\n",
    "            result = self.current\n",
    "            self.current += 2\n",
    "            return result\n",
    "        \n",
    "c = EvenCounter(1,10)\n",
    "for i in c:\n",
    "    print(i, end=\" \")"
   ]
  },
  {
   "cell_type": "code",
   "execution_count": 6,
   "id": "4723b3a5",
   "metadata": {},
   "outputs": [
    {
     "name": "stdout",
     "output_type": "stream",
     "text": [
      "Yours!\n",
      "Total pages: 1300\n"
     ]
    }
   ],
   "source": [
    "class Book:\n",
    "    title =''\n",
    "    pages = 0\n",
    "    \n",
    "    def __init__(self, title='', pages=0):\n",
    "        self.title = title\n",
    "        self.pages = pages\n",
    "        \n",
    "    def __str__(self):\n",
    "        return self.title\n",
    "    \n",
    "    def __gt__(self, other):\n",
    "        if self.pages > other.pages:\n",
    "            output = \"Mine!\"\n",
    "        else:\n",
    "            output = \"Yours!\"\n",
    "        return output\n",
    "    \n",
    "    def __add__(self, other):\n",
    "        output =  self.pages + other.pages\n",
    "        return output\n",
    "    \n",
    "book1 = Book(\"ABCD\", 600)\n",
    "book2 = Book(\"HELLO\", 700)\n",
    "print(book1 > book2)\n",
    "print(\"Total pages: \" + str(book1 + book2))\n"
   ]
  },
  {
   "cell_type": "code",
   "execution_count": null,
   "id": "1b712ad3",
   "metadata": {},
   "outputs": [
    {
     "name": "stdout",
     "output_type": "stream",
     "text": [
      "1번째 추첨:  Lose!\n",
      "2번째 추첨:  Lose!\n",
      "3번째 추첨:  Second!!\n",
      "4번째 추첨:  Lose!\n",
      "5번째 추첨:  Second!!\n",
      "6번째 추첨:  Lose!\n",
      "7번째 추첨:  Lose!\n",
      "8번째 추첨:  Second!!\n",
      "9번째 추첨:  Lose!\n",
      "10번째 추첨:  Lose!\n",
      "11번째 추첨:  Lose!\n",
      "12번째 추첨:  Lose!\n",
      "13번째 추첨:  Lose!\n",
      "14번째 추첨:  Win!!!\n",
      "15번째 추첨:  Lose!\n",
      "16번째 추첨:  Lose!\n",
      "17번째 추첨:  Second!!\n",
      "18번째 추첨:  Win!!!\n",
      "19번째 추첨:  Second!!\n",
      "20번째 추첨:  Lose!\n"
     ]
    }
   ],
   "source": [
    "import random\n",
    "\n",
    "random.seed(7)\n",
    "def draw_prize():\n",
    "    r = random.random()\n",
    "    \n",
    "    if r <= 0.5:\n",
    "        print(\"Lose!\")\n",
    "    elif r <= 0.8:\n",
    "        print(\"Second!!\")\n",
    "    else:\n",
    "        print(\"Win!!!\")\n",
    "        \n",
    "for i in range(1, 21):\n",
    "    print(f\"{i}번째 추첨: \", end=' ')\n",
    "    draw_prize()"
   ]
  },
  {
   "cell_type": "markdown",
   "id": "524ed323",
   "metadata": {},
   "source": [
    "## [9강]"
   ]
  },
  {
   "cell_type": "code",
   "execution_count": 2,
   "id": "16ce9607",
   "metadata": {},
   "outputs": [
    {
     "name": "stdout",
     "output_type": "stream",
     "text": [
      "Check 1:  [25.7 23.9 20.7 27.5 25.5 22.7]\n"
     ]
    }
   ],
   "source": [
    "import numpy as np\n",
    "\n",
    "heights = [1.83, 1.76, 1.69, 1.86, 1.77, 1.73]\n",
    "weights = [86,   74,   59,   95,   80,   68  ]\n",
    "\n",
    "np_heights = np.array(heights)\n",
    "np_weights = np.array(weights)\n",
    "\n",
    "bmi = np_weights / (np_heights**2)\n",
    "print(\"Check 1: \", np.round(bmi,1)) # 여기서 무조건 'np.round()' 를 해야함."
   ]
  },
  {
   "cell_type": "code",
   "execution_count": 4,
   "id": "f51bf8f0",
   "metadata": {},
   "outputs": [
    {
     "name": "stdout",
     "output_type": "stream",
     "text": [
      "0.4\n"
     ]
    }
   ],
   "source": [
    "# MSE 계산\n",
    "# • 회귀 문제나 분류 문제에서 실제 출력과 우리가 원하는 출력 간의 오차를 계산\n",
    "\n",
    "import numpy as np\n",
    "\n",
    "ypred = np.array([1, 0, 0, 0, 0])\n",
    "y = np.array([0, 1, 0, 0, 0])\n",
    "n = 5\n",
    "MSE = (1/n) * np.sum(np.square(ypred - y))\n",
    "print(MSE)"
   ]
  },
  {
   "cell_type": "code",
   "execution_count": 8,
   "id": "58a6b5ba",
   "metadata": {},
   "outputs": [
    {
     "name": "stdout",
     "output_type": "stream",
     "text": [
      "over 500 salary: [530 510]\n",
      "salary mean: 503.33\n",
      "salary std: 24.94\n"
     ]
    }
   ],
   "source": [
    "import numpy as np\n",
    "\n",
    "initial_salary = np.array([220,250,240])\n",
    "salary = initial_salary * 2 + 30\n",
    "print(\"over 500 salary:\", salary[salary >= 500])\n",
    "print(\"salary mean:\", round(salary.mean(),2))\n",
    "print(\"salary std:\", round(salary.std(),2))"
   ]
  },
  {
   "cell_type": "markdown",
   "id": "e8310dad",
   "metadata": {},
   "source": [
    "axis 위치 다시 복습"
   ]
  },
  {
   "cell_type": "code",
   "execution_count": null,
   "id": "d582a79c",
   "metadata": {},
   "outputs": [
    {
     "name": "stdout",
     "output_type": "stream",
     "text": [
      "all mean:  45.46115453618758\n",
      "subject mean:  [33.63683513 25.10699477 60.45021742 62.65057083]\n",
      "student mean:  [52.27670125 40.57224542 45.30809989 37.30065968 51.84806644]\n",
      "student max:  [84.47761323 82.58527551 89.13219543 97.86237847 81.62247487]\n",
      "subject std:  [29.71389018 17.27018079 24.97798155 31.92863709]\n",
      "subject min:  [27.83693851  0.47188562 13.67065897 10.83768905 17.19410127]\n",
      "scores over 85: \n",
      " [89.13219543 97.86237847]\n"
     ]
    }
   ],
   "source": [
    "import numpy as np\n",
    "\n",
    "np.random.seed(100)\n",
    "\n",
    "scores = np.random.rand(5,4)*100\n",
    "\n",
    "print(\"all mean: \", scores.mean())\n",
    "print(\"subject mean: \", scores.mean(axis = 0))\n",
    "print(\"student mean: \", scores.mean(axis = 1))\n",
    "print(\"student max: \", scores.max(axis = 1))\n",
    "print(\"subject std: \", scores.std(axis = 0))\n",
    "print(\"subject min: \", scores.min(axis = 1))\n",
    "print(\"scores over 85: \\n\", scores[scores >= 85])"
   ]
  },
  {
   "cell_type": "markdown",
   "id": "d62d52ad",
   "metadata": {},
   "source": [
    "## [11강]"
   ]
  },
  {
   "cell_type": "code",
   "execution_count": 10,
   "id": "19adce71",
   "metadata": {},
   "outputs": [
    {
     "data": {
      "application/vnd.microsoft.datawrangler.viewer.v0+json": {
       "columns": [
        {
         "name": "index",
         "rawType": "int64",
         "type": "integer"
        },
        {
         "name": "total_bill",
         "rawType": "float64",
         "type": "float"
        },
        {
         "name": "tip",
         "rawType": "float64",
         "type": "float"
        },
        {
         "name": "sex",
         "rawType": "category",
         "type": "unknown"
        },
        {
         "name": "smoker",
         "rawType": "category",
         "type": "unknown"
        },
        {
         "name": "day",
         "rawType": "category",
         "type": "unknown"
        },
        {
         "name": "time",
         "rawType": "category",
         "type": "unknown"
        },
        {
         "name": "size",
         "rawType": "int64",
         "type": "integer"
        }
       ],
       "ref": "a25e7a14-cb0e-4f5c-8ea5-465c55e5f31f",
       "rows": [
        [
         "0",
         "16.99",
         "1.01",
         "Female",
         "No",
         "Sun",
         "Dinner",
         "2"
        ],
        [
         "1",
         "10.34",
         "1.66",
         "Male",
         "No",
         "Sun",
         "Dinner",
         "3"
        ],
        [
         "2",
         "21.01",
         "3.5",
         "Male",
         "No",
         "Sun",
         "Dinner",
         "3"
        ],
        [
         "3",
         "23.68",
         "3.31",
         "Male",
         "No",
         "Sun",
         "Dinner",
         "2"
        ],
        [
         "4",
         "24.59",
         "3.61",
         "Female",
         "No",
         "Sun",
         "Dinner",
         "4"
        ]
       ],
       "shape": {
        "columns": 7,
        "rows": 5
       }
      },
      "text/html": [
       "<div>\n",
       "<style scoped>\n",
       "    .dataframe tbody tr th:only-of-type {\n",
       "        vertical-align: middle;\n",
       "    }\n",
       "\n",
       "    .dataframe tbody tr th {\n",
       "        vertical-align: top;\n",
       "    }\n",
       "\n",
       "    .dataframe thead th {\n",
       "        text-align: right;\n",
       "    }\n",
       "</style>\n",
       "<table border=\"1\" class=\"dataframe\">\n",
       "  <thead>\n",
       "    <tr style=\"text-align: right;\">\n",
       "      <th></th>\n",
       "      <th>total_bill</th>\n",
       "      <th>tip</th>\n",
       "      <th>sex</th>\n",
       "      <th>smoker</th>\n",
       "      <th>day</th>\n",
       "      <th>time</th>\n",
       "      <th>size</th>\n",
       "    </tr>\n",
       "  </thead>\n",
       "  <tbody>\n",
       "    <tr>\n",
       "      <th>0</th>\n",
       "      <td>16.99</td>\n",
       "      <td>1.01</td>\n",
       "      <td>Female</td>\n",
       "      <td>No</td>\n",
       "      <td>Sun</td>\n",
       "      <td>Dinner</td>\n",
       "      <td>2</td>\n",
       "    </tr>\n",
       "    <tr>\n",
       "      <th>1</th>\n",
       "      <td>10.34</td>\n",
       "      <td>1.66</td>\n",
       "      <td>Male</td>\n",
       "      <td>No</td>\n",
       "      <td>Sun</td>\n",
       "      <td>Dinner</td>\n",
       "      <td>3</td>\n",
       "    </tr>\n",
       "    <tr>\n",
       "      <th>2</th>\n",
       "      <td>21.01</td>\n",
       "      <td>3.50</td>\n",
       "      <td>Male</td>\n",
       "      <td>No</td>\n",
       "      <td>Sun</td>\n",
       "      <td>Dinner</td>\n",
       "      <td>3</td>\n",
       "    </tr>\n",
       "    <tr>\n",
       "      <th>3</th>\n",
       "      <td>23.68</td>\n",
       "      <td>3.31</td>\n",
       "      <td>Male</td>\n",
       "      <td>No</td>\n",
       "      <td>Sun</td>\n",
       "      <td>Dinner</td>\n",
       "      <td>2</td>\n",
       "    </tr>\n",
       "    <tr>\n",
       "      <th>4</th>\n",
       "      <td>24.59</td>\n",
       "      <td>3.61</td>\n",
       "      <td>Female</td>\n",
       "      <td>No</td>\n",
       "      <td>Sun</td>\n",
       "      <td>Dinner</td>\n",
       "      <td>4</td>\n",
       "    </tr>\n",
       "  </tbody>\n",
       "</table>\n",
       "</div>"
      ],
      "text/plain": [
       "   total_bill   tip     sex smoker  day    time  size\n",
       "0       16.99  1.01  Female     No  Sun  Dinner     2\n",
       "1       10.34  1.66    Male     No  Sun  Dinner     3\n",
       "2       21.01  3.50    Male     No  Sun  Dinner     3\n",
       "3       23.68  3.31    Male     No  Sun  Dinner     2\n",
       "4       24.59  3.61  Female     No  Sun  Dinner     4"
      ]
     },
     "execution_count": 10,
     "metadata": {},
     "output_type": "execute_result"
    }
   ],
   "source": [
    "import pandas as pd\n",
    "import seaborn as sns\n",
    "tips = sns.load_dataset('tips')\n",
    "tips.head()"
   ]
  },
  {
   "cell_type": "code",
   "execution_count": 11,
   "id": "3bf8d04c",
   "metadata": {},
   "outputs": [
    {
     "data": {
      "application/vnd.microsoft.datawrangler.viewer.v0+json": {
       "columns": [
        {
         "name": "index",
         "rawType": "int64",
         "type": "integer"
        },
        {
         "name": "total_bill",
         "rawType": "float64",
         "type": "float"
        },
        {
         "name": "tip",
         "rawType": "float64",
         "type": "float"
        },
        {
         "name": "sex",
         "rawType": "category",
         "type": "unknown"
        },
        {
         "name": "smoker",
         "rawType": "category",
         "type": "unknown"
        },
        {
         "name": "day",
         "rawType": "category",
         "type": "unknown"
        },
        {
         "name": "time",
         "rawType": "category",
         "type": "unknown"
        },
        {
         "name": "size",
         "rawType": "int64",
         "type": "integer"
        },
        {
         "name": "total",
         "rawType": "float64",
         "type": "float"
        }
       ],
       "ref": "11fa1c4a-e7ad-4740-b466-046fa015ee64",
       "rows": [
        [
         "0",
         "16.99",
         "1.01",
         "Female",
         "No",
         "Sun",
         "Dinner",
         "2",
         "18.0"
        ],
        [
         "1",
         "10.34",
         "1.66",
         "Male",
         "No",
         "Sun",
         "Dinner",
         "3",
         "12.0"
        ],
        [
         "2",
         "21.01",
         "3.5",
         "Male",
         "No",
         "Sun",
         "Dinner",
         "3",
         "24.51"
        ],
        [
         "3",
         "23.68",
         "3.31",
         "Male",
         "No",
         "Sun",
         "Dinner",
         "2",
         "26.99"
        ],
        [
         "4",
         "24.59",
         "3.61",
         "Female",
         "No",
         "Sun",
         "Dinner",
         "4",
         "28.2"
        ]
       ],
       "shape": {
        "columns": 8,
        "rows": 5
       }
      },
      "text/html": [
       "<div>\n",
       "<style scoped>\n",
       "    .dataframe tbody tr th:only-of-type {\n",
       "        vertical-align: middle;\n",
       "    }\n",
       "\n",
       "    .dataframe tbody tr th {\n",
       "        vertical-align: top;\n",
       "    }\n",
       "\n",
       "    .dataframe thead th {\n",
       "        text-align: right;\n",
       "    }\n",
       "</style>\n",
       "<table border=\"1\" class=\"dataframe\">\n",
       "  <thead>\n",
       "    <tr style=\"text-align: right;\">\n",
       "      <th></th>\n",
       "      <th>total_bill</th>\n",
       "      <th>tip</th>\n",
       "      <th>sex</th>\n",
       "      <th>smoker</th>\n",
       "      <th>day</th>\n",
       "      <th>time</th>\n",
       "      <th>size</th>\n",
       "      <th>total</th>\n",
       "    </tr>\n",
       "  </thead>\n",
       "  <tbody>\n",
       "    <tr>\n",
       "      <th>0</th>\n",
       "      <td>16.99</td>\n",
       "      <td>1.01</td>\n",
       "      <td>Female</td>\n",
       "      <td>No</td>\n",
       "      <td>Sun</td>\n",
       "      <td>Dinner</td>\n",
       "      <td>2</td>\n",
       "      <td>18.00</td>\n",
       "    </tr>\n",
       "    <tr>\n",
       "      <th>1</th>\n",
       "      <td>10.34</td>\n",
       "      <td>1.66</td>\n",
       "      <td>Male</td>\n",
       "      <td>No</td>\n",
       "      <td>Sun</td>\n",
       "      <td>Dinner</td>\n",
       "      <td>3</td>\n",
       "      <td>12.00</td>\n",
       "    </tr>\n",
       "    <tr>\n",
       "      <th>2</th>\n",
       "      <td>21.01</td>\n",
       "      <td>3.50</td>\n",
       "      <td>Male</td>\n",
       "      <td>No</td>\n",
       "      <td>Sun</td>\n",
       "      <td>Dinner</td>\n",
       "      <td>3</td>\n",
       "      <td>24.51</td>\n",
       "    </tr>\n",
       "    <tr>\n",
       "      <th>3</th>\n",
       "      <td>23.68</td>\n",
       "      <td>3.31</td>\n",
       "      <td>Male</td>\n",
       "      <td>No</td>\n",
       "      <td>Sun</td>\n",
       "      <td>Dinner</td>\n",
       "      <td>2</td>\n",
       "      <td>26.99</td>\n",
       "    </tr>\n",
       "    <tr>\n",
       "      <th>4</th>\n",
       "      <td>24.59</td>\n",
       "      <td>3.61</td>\n",
       "      <td>Female</td>\n",
       "      <td>No</td>\n",
       "      <td>Sun</td>\n",
       "      <td>Dinner</td>\n",
       "      <td>4</td>\n",
       "      <td>28.20</td>\n",
       "    </tr>\n",
       "  </tbody>\n",
       "</table>\n",
       "</div>"
      ],
      "text/plain": [
       "   total_bill   tip     sex smoker  day    time  size  total\n",
       "0       16.99  1.01  Female     No  Sun  Dinner     2  18.00\n",
       "1       10.34  1.66    Male     No  Sun  Dinner     3  12.00\n",
       "2       21.01  3.50    Male     No  Sun  Dinner     3  24.51\n",
       "3       23.68  3.31    Male     No  Sun  Dinner     2  26.99\n",
       "4       24.59  3.61  Female     No  Sun  Dinner     4  28.20"
      ]
     },
     "execution_count": 11,
     "metadata": {},
     "output_type": "execute_result"
    }
   ],
   "source": [
    "tips[\"total\"] = tips[\"total_bill\"] + tips[\"tip\"]\n",
    "tips.head()"
   ]
  },
  {
   "cell_type": "code",
   "execution_count": 12,
   "id": "9a85f77d",
   "metadata": {},
   "outputs": [
    {
     "data": {
      "application/vnd.microsoft.datawrangler.viewer.v0+json": {
       "columns": [
        {
         "name": "index",
         "rawType": "int64",
         "type": "integer"
        },
        {
         "name": "total_bill",
         "rawType": "float64",
         "type": "float"
        },
        {
         "name": "tip",
         "rawType": "float64",
         "type": "float"
        },
        {
         "name": "sex",
         "rawType": "category",
         "type": "unknown"
        },
        {
         "name": "smoker",
         "rawType": "category",
         "type": "unknown"
        },
        {
         "name": "day",
         "rawType": "category",
         "type": "unknown"
        },
        {
         "name": "time",
         "rawType": "category",
         "type": "unknown"
        },
        {
         "name": "size",
         "rawType": "int64",
         "type": "integer"
        },
        {
         "name": "total",
         "rawType": "float64",
         "type": "float"
        },
        {
         "name": "tip_ratio",
         "rawType": "float64",
         "type": "float"
        }
       ],
       "ref": "46d94159-3933-4568-8b43-4152b05d5b3b",
       "rows": [
        [
         "0",
         "16.99",
         "1.01",
         "Female",
         "No",
         "Sun",
         "Dinner",
         "2",
         "18.0",
         "5.94"
        ],
        [
         "1",
         "10.34",
         "1.66",
         "Male",
         "No",
         "Sun",
         "Dinner",
         "3",
         "12.0",
         "16.05"
        ],
        [
         "2",
         "21.01",
         "3.5",
         "Male",
         "No",
         "Sun",
         "Dinner",
         "3",
         "24.51",
         "16.66"
        ],
        [
         "3",
         "23.68",
         "3.31",
         "Male",
         "No",
         "Sun",
         "Dinner",
         "2",
         "26.99",
         "13.98"
        ],
        [
         "4",
         "24.59",
         "3.61",
         "Female",
         "No",
         "Sun",
         "Dinner",
         "4",
         "28.2",
         "14.68"
        ]
       ],
       "shape": {
        "columns": 9,
        "rows": 5
       }
      },
      "text/html": [
       "<div>\n",
       "<style scoped>\n",
       "    .dataframe tbody tr th:only-of-type {\n",
       "        vertical-align: middle;\n",
       "    }\n",
       "\n",
       "    .dataframe tbody tr th {\n",
       "        vertical-align: top;\n",
       "    }\n",
       "\n",
       "    .dataframe thead th {\n",
       "        text-align: right;\n",
       "    }\n",
       "</style>\n",
       "<table border=\"1\" class=\"dataframe\">\n",
       "  <thead>\n",
       "    <tr style=\"text-align: right;\">\n",
       "      <th></th>\n",
       "      <th>total_bill</th>\n",
       "      <th>tip</th>\n",
       "      <th>sex</th>\n",
       "      <th>smoker</th>\n",
       "      <th>day</th>\n",
       "      <th>time</th>\n",
       "      <th>size</th>\n",
       "      <th>total</th>\n",
       "      <th>tip_ratio</th>\n",
       "    </tr>\n",
       "  </thead>\n",
       "  <tbody>\n",
       "    <tr>\n",
       "      <th>0</th>\n",
       "      <td>16.99</td>\n",
       "      <td>1.01</td>\n",
       "      <td>Female</td>\n",
       "      <td>No</td>\n",
       "      <td>Sun</td>\n",
       "      <td>Dinner</td>\n",
       "      <td>2</td>\n",
       "      <td>18.00</td>\n",
       "      <td>5.94</td>\n",
       "    </tr>\n",
       "    <tr>\n",
       "      <th>1</th>\n",
       "      <td>10.34</td>\n",
       "      <td>1.66</td>\n",
       "      <td>Male</td>\n",
       "      <td>No</td>\n",
       "      <td>Sun</td>\n",
       "      <td>Dinner</td>\n",
       "      <td>3</td>\n",
       "      <td>12.00</td>\n",
       "      <td>16.05</td>\n",
       "    </tr>\n",
       "    <tr>\n",
       "      <th>2</th>\n",
       "      <td>21.01</td>\n",
       "      <td>3.50</td>\n",
       "      <td>Male</td>\n",
       "      <td>No</td>\n",
       "      <td>Sun</td>\n",
       "      <td>Dinner</td>\n",
       "      <td>3</td>\n",
       "      <td>24.51</td>\n",
       "      <td>16.66</td>\n",
       "    </tr>\n",
       "    <tr>\n",
       "      <th>3</th>\n",
       "      <td>23.68</td>\n",
       "      <td>3.31</td>\n",
       "      <td>Male</td>\n",
       "      <td>No</td>\n",
       "      <td>Sun</td>\n",
       "      <td>Dinner</td>\n",
       "      <td>2</td>\n",
       "      <td>26.99</td>\n",
       "      <td>13.98</td>\n",
       "    </tr>\n",
       "    <tr>\n",
       "      <th>4</th>\n",
       "      <td>24.59</td>\n",
       "      <td>3.61</td>\n",
       "      <td>Female</td>\n",
       "      <td>No</td>\n",
       "      <td>Sun</td>\n",
       "      <td>Dinner</td>\n",
       "      <td>4</td>\n",
       "      <td>28.20</td>\n",
       "      <td>14.68</td>\n",
       "    </tr>\n",
       "  </tbody>\n",
       "</table>\n",
       "</div>"
      ],
      "text/plain": [
       "   total_bill   tip     sex smoker  day    time  size  total  tip_ratio\n",
       "0       16.99  1.01  Female     No  Sun  Dinner     2  18.00       5.94\n",
       "1       10.34  1.66    Male     No  Sun  Dinner     3  12.00      16.05\n",
       "2       21.01  3.50    Male     No  Sun  Dinner     3  24.51      16.66\n",
       "3       23.68  3.31    Male     No  Sun  Dinner     2  26.99      13.98\n",
       "4       24.59  3.61  Female     No  Sun  Dinner     4  28.20      14.68"
      ]
     },
     "execution_count": 12,
     "metadata": {},
     "output_type": "execute_result"
    }
   ],
   "source": [
    "tips[\"tip_ratio\"] = round(tips[\"tip\"] / tips[\"total_bill\"] * 100, 2)\n",
    "tips.head()"
   ]
  },
  {
   "cell_type": "code",
   "execution_count": 13,
   "id": "1850b63f",
   "metadata": {},
   "outputs": [
    {
     "name": "stderr",
     "output_type": "stream",
     "text": [
      "C:\\Users\\kne12\\AppData\\Local\\Temp\\ipykernel_17120\\2473604920.py:1: FutureWarning: The default of observed=False is deprecated and will be changed to True in a future version of pandas. Pass observed=False to retain current behavior or observed=True to adopt the future default and silence this warning.\n",
      "  tips_day = tips.groupby(\"day\")[\"tip\"].mean()\n"
     ]
    },
    {
     "data": {
      "application/vnd.microsoft.datawrangler.viewer.v0+json": {
       "columns": [
        {
         "name": "day",
         "rawType": "category",
         "type": "unknown"
        },
        {
         "name": "tip",
         "rawType": "float64",
         "type": "float"
        }
       ],
       "ref": "798c54f3-5f80-4fe6-a074-6201729548f3",
       "rows": [
        [
         "Thur",
         "2.7714516129032254"
        ],
        [
         "Fri",
         "2.734736842105263"
        ],
        [
         "Sat",
         "2.993103448275862"
        ],
        [
         "Sun",
         "3.2551315789473683"
        ]
       ],
       "shape": {
        "columns": 1,
        "rows": 4
       }
      },
      "text/html": [
       "<div>\n",
       "<style scoped>\n",
       "    .dataframe tbody tr th:only-of-type {\n",
       "        vertical-align: middle;\n",
       "    }\n",
       "\n",
       "    .dataframe tbody tr th {\n",
       "        vertical-align: top;\n",
       "    }\n",
       "\n",
       "    .dataframe thead th {\n",
       "        text-align: right;\n",
       "    }\n",
       "</style>\n",
       "<table border=\"1\" class=\"dataframe\">\n",
       "  <thead>\n",
       "    <tr style=\"text-align: right;\">\n",
       "      <th></th>\n",
       "      <th>tip</th>\n",
       "    </tr>\n",
       "    <tr>\n",
       "      <th>day</th>\n",
       "      <th></th>\n",
       "    </tr>\n",
       "  </thead>\n",
       "  <tbody>\n",
       "    <tr>\n",
       "      <th>Thur</th>\n",
       "      <td>2.771452</td>\n",
       "    </tr>\n",
       "    <tr>\n",
       "      <th>Fri</th>\n",
       "      <td>2.734737</td>\n",
       "    </tr>\n",
       "    <tr>\n",
       "      <th>Sat</th>\n",
       "      <td>2.993103</td>\n",
       "    </tr>\n",
       "    <tr>\n",
       "      <th>Sun</th>\n",
       "      <td>3.255132</td>\n",
       "    </tr>\n",
       "  </tbody>\n",
       "</table>\n",
       "</div>"
      ],
      "text/plain": [
       "           tip\n",
       "day           \n",
       "Thur  2.771452\n",
       "Fri   2.734737\n",
       "Sat   2.993103\n",
       "Sun   3.255132"
      ]
     },
     "execution_count": 13,
     "metadata": {},
     "output_type": "execute_result"
    }
   ],
   "source": [
    "tips_day = tips.groupby(\"day\")[\"tip\"].mean()\n",
    "pd.DataFrame(tips_day)"
   ]
  },
  {
   "cell_type": "markdown",
   "id": "6b81a2c4",
   "metadata": {},
   "source": [
    "list 구분 다시 공부"
   ]
  },
  {
   "cell_type": "code",
   "execution_count": 14,
   "id": "099adfcb",
   "metadata": {},
   "outputs": [
    {
     "data": {
      "application/vnd.microsoft.datawrangler.viewer.v0+json": {
       "columns": [
        {
         "name": "index",
         "rawType": "int64",
         "type": "integer"
        },
        {
         "name": "total_bill",
         "rawType": "float64",
         "type": "float"
        },
        {
         "name": "tip",
         "rawType": "float64",
         "type": "float"
        },
        {
         "name": "sex",
         "rawType": "category",
         "type": "unknown"
        },
        {
         "name": "smoker",
         "rawType": "category",
         "type": "unknown"
        },
        {
         "name": "day",
         "rawType": "category",
         "type": "unknown"
        },
        {
         "name": "time",
         "rawType": "category",
         "type": "unknown"
        },
        {
         "name": "size",
         "rawType": "int64",
         "type": "integer"
        },
        {
         "name": "total",
         "rawType": "float64",
         "type": "float"
        },
        {
         "name": "tip_ratio",
         "rawType": "float64",
         "type": "float"
        }
       ],
       "ref": "25d409d2-b674-4d2a-ab4d-2094cf794b35",
       "rows": [
        [
         "75",
         "10.51",
         "1.25",
         "Male",
         "No",
         "Sat",
         "Dinner",
         "2",
         "11.76",
         "11.89"
        ],
        [
         "235",
         "10.07",
         "1.25",
         "Male",
         "No",
         "Sat",
         "Dinner",
         "2",
         "11.32",
         "12.41"
        ]
       ],
       "shape": {
        "columns": 9,
        "rows": 2
       }
      },
      "text/html": [
       "<div>\n",
       "<style scoped>\n",
       "    .dataframe tbody tr th:only-of-type {\n",
       "        vertical-align: middle;\n",
       "    }\n",
       "\n",
       "    .dataframe tbody tr th {\n",
       "        vertical-align: top;\n",
       "    }\n",
       "\n",
       "    .dataframe thead th {\n",
       "        text-align: right;\n",
       "    }\n",
       "</style>\n",
       "<table border=\"1\" class=\"dataframe\">\n",
       "  <thead>\n",
       "    <tr style=\"text-align: right;\">\n",
       "      <th></th>\n",
       "      <th>total_bill</th>\n",
       "      <th>tip</th>\n",
       "      <th>sex</th>\n",
       "      <th>smoker</th>\n",
       "      <th>day</th>\n",
       "      <th>time</th>\n",
       "      <th>size</th>\n",
       "      <th>total</th>\n",
       "      <th>tip_ratio</th>\n",
       "    </tr>\n",
       "  </thead>\n",
       "  <tbody>\n",
       "    <tr>\n",
       "      <th>75</th>\n",
       "      <td>10.51</td>\n",
       "      <td>1.25</td>\n",
       "      <td>Male</td>\n",
       "      <td>No</td>\n",
       "      <td>Sat</td>\n",
       "      <td>Dinner</td>\n",
       "      <td>2</td>\n",
       "      <td>11.76</td>\n",
       "      <td>11.89</td>\n",
       "    </tr>\n",
       "    <tr>\n",
       "      <th>235</th>\n",
       "      <td>10.07</td>\n",
       "      <td>1.25</td>\n",
       "      <td>Male</td>\n",
       "      <td>No</td>\n",
       "      <td>Sat</td>\n",
       "      <td>Dinner</td>\n",
       "      <td>2</td>\n",
       "      <td>11.32</td>\n",
       "      <td>12.41</td>\n",
       "    </tr>\n",
       "  </tbody>\n",
       "</table>\n",
       "</div>"
      ],
      "text/plain": [
       "     total_bill   tip   sex smoker  day    time  size  total  tip_ratio\n",
       "75        10.51  1.25  Male     No  Sat  Dinner     2  11.76      11.89\n",
       "235       10.07  1.25  Male     No  Sat  Dinner     2  11.32      12.41"
      ]
     },
     "execution_count": 14,
     "metadata": {},
     "output_type": "execute_result"
    }
   ],
   "source": [
    "tips_non = tips[(tips[\"sex\"] == \"Male\") & (tips[\"smoker\"] == \"No\")].sort_values(\"tip\",ascending=True).head(2)\n",
    "pd.DataFrame(tips_non)"
   ]
  },
  {
   "cell_type": "code",
   "execution_count": 15,
   "id": "9c15cf24",
   "metadata": {},
   "outputs": [
    {
     "data": {
      "application/vnd.microsoft.datawrangler.viewer.v0+json": {
       "columns": [
        {
         "name": "index",
         "rawType": "int64",
         "type": "integer"
        },
        {
         "name": "year",
         "rawType": "int64",
         "type": "integer"
        },
        {
         "name": "month",
         "rawType": "category",
         "type": "unknown"
        },
        {
         "name": "passengers",
         "rawType": "int64",
         "type": "integer"
        }
       ],
       "ref": "6f49fb85-b44a-42fa-8b94-ea5fa4301b55",
       "rows": [
        [
         "0",
         "1949",
         "Jan",
         "112"
        ],
        [
         "1",
         "1949",
         "Feb",
         "118"
        ],
        [
         "2",
         "1949",
         "Mar",
         "132"
        ],
        [
         "3",
         "1949",
         "Apr",
         "129"
        ],
        [
         "4",
         "1949",
         "May",
         "121"
        ],
        [
         "5",
         "1949",
         "Jun",
         "135"
        ],
        [
         "6",
         "1949",
         "Jul",
         "148"
        ],
        [
         "7",
         "1949",
         "Aug",
         "148"
        ],
        [
         "8",
         "1949",
         "Sep",
         "136"
        ],
        [
         "9",
         "1949",
         "Oct",
         "119"
        ],
        [
         "10",
         "1949",
         "Nov",
         "104"
        ],
        [
         "11",
         "1949",
         "Dec",
         "118"
        ],
        [
         "12",
         "1950",
         "Jan",
         "115"
        ],
        [
         "13",
         "1950",
         "Feb",
         "126"
        ],
        [
         "14",
         "1950",
         "Mar",
         "141"
        ],
        [
         "15",
         "1950",
         "Apr",
         "135"
        ],
        [
         "16",
         "1950",
         "May",
         "125"
        ],
        [
         "17",
         "1950",
         "Jun",
         "149"
        ],
        [
         "18",
         "1950",
         "Jul",
         "170"
        ],
        [
         "19",
         "1950",
         "Aug",
         "170"
        ],
        [
         "20",
         "1950",
         "Sep",
         "158"
        ],
        [
         "21",
         "1950",
         "Oct",
         "133"
        ],
        [
         "22",
         "1950",
         "Nov",
         "114"
        ],
        [
         "23",
         "1950",
         "Dec",
         "140"
        ],
        [
         "24",
         "1951",
         "Jan",
         "145"
        ],
        [
         "25",
         "1951",
         "Feb",
         "150"
        ],
        [
         "26",
         "1951",
         "Mar",
         "178"
        ],
        [
         "27",
         "1951",
         "Apr",
         "163"
        ],
        [
         "28",
         "1951",
         "May",
         "172"
        ],
        [
         "29",
         "1951",
         "Jun",
         "178"
        ],
        [
         "30",
         "1951",
         "Jul",
         "199"
        ],
        [
         "31",
         "1951",
         "Aug",
         "199"
        ],
        [
         "32",
         "1951",
         "Sep",
         "184"
        ],
        [
         "33",
         "1951",
         "Oct",
         "162"
        ],
        [
         "34",
         "1951",
         "Nov",
         "146"
        ],
        [
         "35",
         "1951",
         "Dec",
         "166"
        ],
        [
         "36",
         "1952",
         "Jan",
         "171"
        ],
        [
         "37",
         "1952",
         "Feb",
         "180"
        ],
        [
         "38",
         "1952",
         "Mar",
         "193"
        ],
        [
         "39",
         "1952",
         "Apr",
         "181"
        ],
        [
         "40",
         "1952",
         "May",
         "183"
        ],
        [
         "41",
         "1952",
         "Jun",
         "218"
        ],
        [
         "42",
         "1952",
         "Jul",
         "230"
        ],
        [
         "43",
         "1952",
         "Aug",
         "242"
        ],
        [
         "44",
         "1952",
         "Sep",
         "209"
        ],
        [
         "45",
         "1952",
         "Oct",
         "191"
        ],
        [
         "46",
         "1952",
         "Nov",
         "172"
        ],
        [
         "47",
         "1952",
         "Dec",
         "194"
        ],
        [
         "48",
         "1953",
         "Jan",
         "196"
        ],
        [
         "49",
         "1953",
         "Feb",
         "196"
        ]
       ],
       "shape": {
        "columns": 3,
        "rows": 144
       }
      },
      "text/html": [
       "<div>\n",
       "<style scoped>\n",
       "    .dataframe tbody tr th:only-of-type {\n",
       "        vertical-align: middle;\n",
       "    }\n",
       "\n",
       "    .dataframe tbody tr th {\n",
       "        vertical-align: top;\n",
       "    }\n",
       "\n",
       "    .dataframe thead th {\n",
       "        text-align: right;\n",
       "    }\n",
       "</style>\n",
       "<table border=\"1\" class=\"dataframe\">\n",
       "  <thead>\n",
       "    <tr style=\"text-align: right;\">\n",
       "      <th></th>\n",
       "      <th>year</th>\n",
       "      <th>month</th>\n",
       "      <th>passengers</th>\n",
       "    </tr>\n",
       "  </thead>\n",
       "  <tbody>\n",
       "    <tr>\n",
       "      <th>0</th>\n",
       "      <td>1949</td>\n",
       "      <td>Jan</td>\n",
       "      <td>112</td>\n",
       "    </tr>\n",
       "    <tr>\n",
       "      <th>1</th>\n",
       "      <td>1949</td>\n",
       "      <td>Feb</td>\n",
       "      <td>118</td>\n",
       "    </tr>\n",
       "    <tr>\n",
       "      <th>2</th>\n",
       "      <td>1949</td>\n",
       "      <td>Mar</td>\n",
       "      <td>132</td>\n",
       "    </tr>\n",
       "    <tr>\n",
       "      <th>3</th>\n",
       "      <td>1949</td>\n",
       "      <td>Apr</td>\n",
       "      <td>129</td>\n",
       "    </tr>\n",
       "    <tr>\n",
       "      <th>4</th>\n",
       "      <td>1949</td>\n",
       "      <td>May</td>\n",
       "      <td>121</td>\n",
       "    </tr>\n",
       "    <tr>\n",
       "      <th>...</th>\n",
       "      <td>...</td>\n",
       "      <td>...</td>\n",
       "      <td>...</td>\n",
       "    </tr>\n",
       "    <tr>\n",
       "      <th>139</th>\n",
       "      <td>1960</td>\n",
       "      <td>Aug</td>\n",
       "      <td>606</td>\n",
       "    </tr>\n",
       "    <tr>\n",
       "      <th>140</th>\n",
       "      <td>1960</td>\n",
       "      <td>Sep</td>\n",
       "      <td>508</td>\n",
       "    </tr>\n",
       "    <tr>\n",
       "      <th>141</th>\n",
       "      <td>1960</td>\n",
       "      <td>Oct</td>\n",
       "      <td>461</td>\n",
       "    </tr>\n",
       "    <tr>\n",
       "      <th>142</th>\n",
       "      <td>1960</td>\n",
       "      <td>Nov</td>\n",
       "      <td>390</td>\n",
       "    </tr>\n",
       "    <tr>\n",
       "      <th>143</th>\n",
       "      <td>1960</td>\n",
       "      <td>Dec</td>\n",
       "      <td>432</td>\n",
       "    </tr>\n",
       "  </tbody>\n",
       "</table>\n",
       "<p>144 rows × 3 columns</p>\n",
       "</div>"
      ],
      "text/plain": [
       "     year month  passengers\n",
       "0    1949   Jan         112\n",
       "1    1949   Feb         118\n",
       "2    1949   Mar         132\n",
       "3    1949   Apr         129\n",
       "4    1949   May         121\n",
       "..    ...   ...         ...\n",
       "139  1960   Aug         606\n",
       "140  1960   Sep         508\n",
       "141  1960   Oct         461\n",
       "142  1960   Nov         390\n",
       "143  1960   Dec         432\n",
       "\n",
       "[144 rows x 3 columns]"
      ]
     },
     "execution_count": 15,
     "metadata": {},
     "output_type": "execute_result"
    }
   ],
   "source": [
    "import pandas as pd\n",
    "import seaborn as sns\n",
    "\n",
    "df = sns.load_dataset(\"flights\")\n",
    "df"
   ]
  },
  {
   "cell_type": "code",
   "execution_count": 17,
   "id": "db773f34",
   "metadata": {},
   "outputs": [
    {
     "name": "stdout",
     "output_type": "stream",
     "text": [
      "total ratio:  1.0\n"
     ]
    },
    {
     "data": {
      "application/vnd.microsoft.datawrangler.viewer.v0+json": {
       "columns": [
        {
         "name": "year",
         "rawType": "int64",
         "type": "integer"
        },
        {
         "name": "passengers",
         "rawType": "int64",
         "type": "integer"
        },
        {
         "name": "ratio",
         "rawType": "float64",
         "type": "float"
        }
       ],
       "ref": "bf8c05d4-8499-45fc-b436-e983564ab1e5",
       "rows": [
        [
         "1949",
         "1520",
         "0.03765825136882789"
        ],
        [
         "1950",
         "1676",
         "0.04152317716720759"
        ],
        [
         "1951",
         "2042",
         "0.05059088769417536"
        ],
        [
         "1952",
         "2364",
         "0.05856849094467705"
        ],
        [
         "1953",
         "2700",
         "0.06689294651041795"
        ],
        [
         "1954",
         "2867",
         "0.07103039912791417"
        ],
        [
         "1955",
         "3408",
         "0.084433763595372"
        ],
        [
         "1956",
         "3939",
         "0.09758937640908753"
        ],
        [
         "1957",
         "4421",
         "0.10953100611946585"
        ],
        [
         "1958",
         "4572",
         "0.1132720560909744"
        ],
        [
         "1959",
         "5140",
         "0.12734435002353642"
        ],
        [
         "1960",
         "5714",
         "0.14156529494834377"
        ]
       ],
       "shape": {
        "columns": 2,
        "rows": 12
       }
      },
      "text/html": [
       "<div>\n",
       "<style scoped>\n",
       "    .dataframe tbody tr th:only-of-type {\n",
       "        vertical-align: middle;\n",
       "    }\n",
       "\n",
       "    .dataframe tbody tr th {\n",
       "        vertical-align: top;\n",
       "    }\n",
       "\n",
       "    .dataframe thead th {\n",
       "        text-align: right;\n",
       "    }\n",
       "</style>\n",
       "<table border=\"1\" class=\"dataframe\">\n",
       "  <thead>\n",
       "    <tr style=\"text-align: right;\">\n",
       "      <th></th>\n",
       "      <th>passengers</th>\n",
       "      <th>ratio</th>\n",
       "    </tr>\n",
       "    <tr>\n",
       "      <th>year</th>\n",
       "      <th></th>\n",
       "      <th></th>\n",
       "    </tr>\n",
       "  </thead>\n",
       "  <tbody>\n",
       "    <tr>\n",
       "      <th>1949</th>\n",
       "      <td>1520</td>\n",
       "      <td>0.037658</td>\n",
       "    </tr>\n",
       "    <tr>\n",
       "      <th>1950</th>\n",
       "      <td>1676</td>\n",
       "      <td>0.041523</td>\n",
       "    </tr>\n",
       "    <tr>\n",
       "      <th>1951</th>\n",
       "      <td>2042</td>\n",
       "      <td>0.050591</td>\n",
       "    </tr>\n",
       "    <tr>\n",
       "      <th>1952</th>\n",
       "      <td>2364</td>\n",
       "      <td>0.058568</td>\n",
       "    </tr>\n",
       "    <tr>\n",
       "      <th>1953</th>\n",
       "      <td>2700</td>\n",
       "      <td>0.066893</td>\n",
       "    </tr>\n",
       "    <tr>\n",
       "      <th>1954</th>\n",
       "      <td>2867</td>\n",
       "      <td>0.071030</td>\n",
       "    </tr>\n",
       "    <tr>\n",
       "      <th>1955</th>\n",
       "      <td>3408</td>\n",
       "      <td>0.084434</td>\n",
       "    </tr>\n",
       "    <tr>\n",
       "      <th>1956</th>\n",
       "      <td>3939</td>\n",
       "      <td>0.097589</td>\n",
       "    </tr>\n",
       "    <tr>\n",
       "      <th>1957</th>\n",
       "      <td>4421</td>\n",
       "      <td>0.109531</td>\n",
       "    </tr>\n",
       "    <tr>\n",
       "      <th>1958</th>\n",
       "      <td>4572</td>\n",
       "      <td>0.113272</td>\n",
       "    </tr>\n",
       "    <tr>\n",
       "      <th>1959</th>\n",
       "      <td>5140</td>\n",
       "      <td>0.127344</td>\n",
       "    </tr>\n",
       "    <tr>\n",
       "      <th>1960</th>\n",
       "      <td>5714</td>\n",
       "      <td>0.141565</td>\n",
       "    </tr>\n",
       "  </tbody>\n",
       "</table>\n",
       "</div>"
      ],
      "text/plain": [
       "      passengers     ratio\n",
       "year                      \n",
       "1949        1520  0.037658\n",
       "1950        1676  0.041523\n",
       "1951        2042  0.050591\n",
       "1952        2364  0.058568\n",
       "1953        2700  0.066893\n",
       "1954        2867  0.071030\n",
       "1955        3408  0.084434\n",
       "1956        3939  0.097589\n",
       "1957        4421  0.109531\n",
       "1958        4572  0.113272\n",
       "1959        5140  0.127344\n",
       "1960        5714  0.141565"
      ]
     },
     "execution_count": 17,
     "metadata": {},
     "output_type": "execute_result"
    }
   ],
   "source": [
    "total_passengers_sum = df[\"passengers\"].sum() # 전체 승객 수 합\n",
    "\n",
    "df[\"ratio\"] = df[\"passengers\"] / total_passengers_sum # 전체 승객 수 대비 연도별 승객 수\n",
    "\n",
    "total_ratio = df[\"ratio\"].sum() # 비율 총합 구하기\n",
    "print(\"total ratio: \", total_ratio) # 비율 총합 출력으로 표현\n",
    "\n",
    "# 이제 year로 그룹핑한 passengers 와 ratio DF를 출력해야 한다\n",
    "# 그냥 두 개의 시리즈로 바꿔서 다시 합쳐주는 과정으로 해보기\n",
    "df_person = df.groupby(\"year\")[\"passengers\"].sum()\n",
    "df_ratio = df.groupby(\"year\")[\"ratio\"].sum()\n",
    "\n",
    "pd.DataFrame({\"passengers\" : df_person, \"ratio\" : df_ratio})"
   ]
  },
  {
   "cell_type": "code",
   "execution_count": 18,
   "id": "bcc3aeb5",
   "metadata": {},
   "outputs": [
    {
     "data": {
      "application/vnd.microsoft.datawrangler.viewer.v0+json": {
       "columns": [
        {
         "name": "index",
         "rawType": "int64",
         "type": "integer"
        },
        {
         "name": "year",
         "rawType": "int64",
         "type": "integer"
        },
        {
         "name": "month",
         "rawType": "category",
         "type": "unknown"
        }
       ],
       "ref": "b6eeadcd-753a-46e4-abc6-869237d38ac3",
       "rows": [
        [
         "138",
         "1960",
         "Jul"
        ]
       ],
       "shape": {
        "columns": 2,
        "rows": 1
       }
      },
      "text/html": [
       "<div>\n",
       "<style scoped>\n",
       "    .dataframe tbody tr th:only-of-type {\n",
       "        vertical-align: middle;\n",
       "    }\n",
       "\n",
       "    .dataframe tbody tr th {\n",
       "        vertical-align: top;\n",
       "    }\n",
       "\n",
       "    .dataframe thead th {\n",
       "        text-align: right;\n",
       "    }\n",
       "</style>\n",
       "<table border=\"1\" class=\"dataframe\">\n",
       "  <thead>\n",
       "    <tr style=\"text-align: right;\">\n",
       "      <th></th>\n",
       "      <th>year</th>\n",
       "      <th>month</th>\n",
       "    </tr>\n",
       "  </thead>\n",
       "  <tbody>\n",
       "    <tr>\n",
       "      <th>138</th>\n",
       "      <td>1960</td>\n",
       "      <td>Jul</td>\n",
       "    </tr>\n",
       "  </tbody>\n",
       "</table>\n",
       "</div>"
      ],
      "text/plain": [
       "     year month\n",
       "138  1960   Jul"
      ]
     },
     "execution_count": 18,
     "metadata": {},
     "output_type": "execute_result"
    }
   ],
   "source": [
    "a = df.sort_values(\"passengers\", ascending=False).head(1) # ascending이 정확하게 뭘 의미하는건지 암기하기\n",
    "a[[\"year\", \"month\"]]"
   ]
  },
  {
   "cell_type": "code",
   "execution_count": 19,
   "id": "818756e1",
   "metadata": {},
   "outputs": [
    {
     "name": "stderr",
     "output_type": "stream",
     "text": [
      "C:\\Users\\kne12\\AppData\\Local\\Temp\\ipykernel_17120\\4091571772.py:1: FutureWarning: The default of observed=False is deprecated and will be changed to True in a future version of pandas. Pass observed=False to retain current behavior or observed=True to adopt the future default and silence this warning.\n",
      "  df_pass = df.groupby(\"month\")[\"passengers\"].mean()\n"
     ]
    },
    {
     "data": {
      "application/vnd.microsoft.datawrangler.viewer.v0+json": {
       "columns": [
        {
         "name": "month",
         "rawType": "category",
         "type": "unknown"
        },
        {
         "name": "passengers",
         "rawType": "float64",
         "type": "float"
        }
       ],
       "ref": "8f66edfd-f4a7-4709-8c6a-00fe50451777",
       "rows": [
        [
         "Jan",
         "241.75"
        ],
        [
         "Feb",
         "235.0"
        ],
        [
         "Mar",
         "270.1666666666667"
        ],
        [
         "Apr",
         "267.0833333333333"
        ],
        [
         "May",
         "271.8333333333333"
        ],
        [
         "Jun",
         "311.6666666666667"
        ],
        [
         "Jul",
         "351.3333333333333"
        ],
        [
         "Aug",
         "351.0833333333333"
        ],
        [
         "Sep",
         "302.4166666666667"
        ],
        [
         "Oct",
         "266.5833333333333"
        ],
        [
         "Nov",
         "232.83333333333334"
        ],
        [
         "Dec",
         "261.8333333333333"
        ]
       ],
       "shape": {
        "columns": 1,
        "rows": 12
       }
      },
      "text/html": [
       "<div>\n",
       "<style scoped>\n",
       "    .dataframe tbody tr th:only-of-type {\n",
       "        vertical-align: middle;\n",
       "    }\n",
       "\n",
       "    .dataframe tbody tr th {\n",
       "        vertical-align: top;\n",
       "    }\n",
       "\n",
       "    .dataframe thead th {\n",
       "        text-align: right;\n",
       "    }\n",
       "</style>\n",
       "<table border=\"1\" class=\"dataframe\">\n",
       "  <thead>\n",
       "    <tr style=\"text-align: right;\">\n",
       "      <th></th>\n",
       "      <th>passengers</th>\n",
       "    </tr>\n",
       "    <tr>\n",
       "      <th>month</th>\n",
       "      <th></th>\n",
       "    </tr>\n",
       "  </thead>\n",
       "  <tbody>\n",
       "    <tr>\n",
       "      <th>Jan</th>\n",
       "      <td>241.750000</td>\n",
       "    </tr>\n",
       "    <tr>\n",
       "      <th>Feb</th>\n",
       "      <td>235.000000</td>\n",
       "    </tr>\n",
       "    <tr>\n",
       "      <th>Mar</th>\n",
       "      <td>270.166667</td>\n",
       "    </tr>\n",
       "    <tr>\n",
       "      <th>Apr</th>\n",
       "      <td>267.083333</td>\n",
       "    </tr>\n",
       "    <tr>\n",
       "      <th>May</th>\n",
       "      <td>271.833333</td>\n",
       "    </tr>\n",
       "    <tr>\n",
       "      <th>Jun</th>\n",
       "      <td>311.666667</td>\n",
       "    </tr>\n",
       "    <tr>\n",
       "      <th>Jul</th>\n",
       "      <td>351.333333</td>\n",
       "    </tr>\n",
       "    <tr>\n",
       "      <th>Aug</th>\n",
       "      <td>351.083333</td>\n",
       "    </tr>\n",
       "    <tr>\n",
       "      <th>Sep</th>\n",
       "      <td>302.416667</td>\n",
       "    </tr>\n",
       "    <tr>\n",
       "      <th>Oct</th>\n",
       "      <td>266.583333</td>\n",
       "    </tr>\n",
       "    <tr>\n",
       "      <th>Nov</th>\n",
       "      <td>232.833333</td>\n",
       "    </tr>\n",
       "    <tr>\n",
       "      <th>Dec</th>\n",
       "      <td>261.833333</td>\n",
       "    </tr>\n",
       "  </tbody>\n",
       "</table>\n",
       "</div>"
      ],
      "text/plain": [
       "       passengers\n",
       "month            \n",
       "Jan    241.750000\n",
       "Feb    235.000000\n",
       "Mar    270.166667\n",
       "Apr    267.083333\n",
       "May    271.833333\n",
       "Jun    311.666667\n",
       "Jul    351.333333\n",
       "Aug    351.083333\n",
       "Sep    302.416667\n",
       "Oct    266.583333\n",
       "Nov    232.833333\n",
       "Dec    261.833333"
      ]
     },
     "execution_count": 19,
     "metadata": {},
     "output_type": "execute_result"
    },
    {
     "data": {
      "image/png": "[encoded data removed]",
      "text/plain": [
       "<Figure size 640x480 with 1 Axes>"
      ]
     },
     "metadata": {},
     "output_type": "display_data"
    }
   ],
   "source": [
    "df_pass = df.groupby(\"month\")[\"passengers\"].mean()\n",
    "\n",
    "df_pass.plot(kind = \"line\")\n",
    "pd.DataFrame(df_pass)"
   ]
  },
  {
   "cell_type": "code",
   "execution_count": 20,
   "id": "96325e5e",
   "metadata": {},
   "outputs": [
    {
     "data": {
      "application/vnd.microsoft.datawrangler.viewer.v0+json": {
       "columns": [
        {
         "name": "year",
         "rawType": "int64",
         "type": "integer"
        },
        {
         "name": "passengers",
         "rawType": "float64",
         "type": "float"
        }
       ],
       "ref": "c88ccca4-cd3b-40da-8c90-cc2a43bee72d",
       "rows": [
        [
         "1956",
         "328.25"
        ],
        [
         "1957",
         "368.4166666666667"
        ],
        [
         "1958",
         "381.0"
        ],
        [
         "1959",
         "428.3333333333333"
        ],
        [
         "1960",
         "476.1666666666667"
        ]
       ],
       "shape": {
        "columns": 1,
        "rows": 5
       }
      },
      "text/html": [
       "<div>\n",
       "<style scoped>\n",
       "    .dataframe tbody tr th:only-of-type {\n",
       "        vertical-align: middle;\n",
       "    }\n",
       "\n",
       "    .dataframe tbody tr th {\n",
       "        vertical-align: top;\n",
       "    }\n",
       "\n",
       "    .dataframe thead th {\n",
       "        text-align: right;\n",
       "    }\n",
       "</style>\n",
       "<table border=\"1\" class=\"dataframe\">\n",
       "  <thead>\n",
       "    <tr style=\"text-align: right;\">\n",
       "      <th></th>\n",
       "      <th>passengers</th>\n",
       "    </tr>\n",
       "    <tr>\n",
       "      <th>year</th>\n",
       "      <th></th>\n",
       "    </tr>\n",
       "  </thead>\n",
       "  <tbody>\n",
       "    <tr>\n",
       "      <th>1956</th>\n",
       "      <td>328.250000</td>\n",
       "    </tr>\n",
       "    <tr>\n",
       "      <th>1957</th>\n",
       "      <td>368.416667</td>\n",
       "    </tr>\n",
       "    <tr>\n",
       "      <th>1958</th>\n",
       "      <td>381.000000</td>\n",
       "    </tr>\n",
       "    <tr>\n",
       "      <th>1959</th>\n",
       "      <td>428.333333</td>\n",
       "    </tr>\n",
       "    <tr>\n",
       "      <th>1960</th>\n",
       "      <td>476.166667</td>\n",
       "    </tr>\n",
       "  </tbody>\n",
       "</table>\n",
       "</div>"
      ],
      "text/plain": [
       "      passengers\n",
       "year            \n",
       "1956  328.250000\n",
       "1957  368.416667\n",
       "1958  381.000000\n",
       "1959  428.333333\n",
       "1960  476.166667"
      ]
     },
     "execution_count": 20,
     "metadata": {},
     "output_type": "execute_result"
    },
    {
     "data": {
      "image/png": "[encoded data removed]",
      "text/plain": [
       "<Figure size 640x480 with 1 Axes>"
      ]
     },
     "metadata": {},
     "output_type": "display_data"
    }
   ],
   "source": [
    "df_year = df.groupby(\"year\")[\"passengers\"].mean().tail()\n",
    "\n",
    "df_year.plot(kind = \"line\")\n",
    "pd.DataFrame(df_year)"
   ]
  },
  {
   "cell_type": "code",
   "execution_count": 21,
   "id": "387933d7",
   "metadata": {},
   "outputs": [
    {
     "data": {
      "application/vnd.microsoft.datawrangler.viewer.v0+json": {
       "columns": [
        {
         "name": "index",
         "rawType": "int64",
         "type": "integer"
        },
        {
         "name": "carat",
         "rawType": "float64",
         "type": "float"
        },
        {
         "name": "cut",
         "rawType": "category",
         "type": "unknown"
        },
        {
         "name": "color",
         "rawType": "category",
         "type": "unknown"
        },
        {
         "name": "clarity",
         "rawType": "category",
         "type": "unknown"
        },
        {
         "name": "depth",
         "rawType": "float64",
         "type": "float"
        },
        {
         "name": "table",
         "rawType": "float64",
         "type": "float"
        },
        {
         "name": "price",
         "rawType": "int64",
         "type": "integer"
        },
        {
         "name": "x",
         "rawType": "float64",
         "type": "float"
        },
        {
         "name": "y",
         "rawType": "float64",
         "type": "float"
        },
        {
         "name": "z",
         "rawType": "float64",
         "type": "float"
        }
       ],
       "ref": "7341907e-b054-4fb4-8868-1c96e8c97ee5",
       "rows": [
        [
         "0",
         "0.23",
         "Ideal",
         "E",
         "SI2",
         "61.5",
         "55.0",
         "326",
         "3.95",
         "3.98",
         "2.43"
        ],
        [
         "1",
         "0.21",
         "Premium",
         "E",
         "SI1",
         "59.8",
         "61.0",
         "326",
         "3.89",
         "3.84",
         "2.31"
        ],
        [
         "2",
         "0.23",
         "Good",
         "E",
         "VS1",
         "56.9",
         "65.0",
         "327",
         "4.05",
         "4.07",
         "2.31"
        ],
        [
         "3",
         "0.29",
         "Premium",
         "I",
         "VS2",
         "62.4",
         "58.0",
         "334",
         "4.2",
         "4.23",
         "2.63"
        ],
        [
         "4",
         "0.31",
         "Good",
         "J",
         "SI2",
         "63.3",
         "58.0",
         "335",
         "4.34",
         "4.35",
         "2.75"
        ],
        [
         "5",
         "0.24",
         "Very Good",
         "J",
         "VVS2",
         "62.8",
         "57.0",
         "336",
         "3.94",
         "3.96",
         "2.48"
        ],
        [
         "6",
         "0.24",
         "Very Good",
         "I",
         "VVS1",
         "62.3",
         "57.0",
         "336",
         "3.95",
         "3.98",
         "2.47"
        ],
        [
         "7",
         "0.26",
         "Very Good",
         "H",
         "SI1",
         "61.9",
         "55.0",
         "337",
         "4.07",
         "4.11",
         "2.53"
        ],
        [
         "8",
         "0.22",
         "Fair",
         "E",
         "VS2",
         "65.1",
         "61.0",
         "337",
         "3.87",
         "3.78",
         "2.49"
        ],
        [
         "9",
         "0.23",
         "Very Good",
         "H",
         "VS1",
         "59.4",
         "61.0",
         "338",
         "4.0",
         "4.05",
         "2.39"
        ],
        [
         "10",
         "0.3",
         "Good",
         "J",
         "SI1",
         "64.0",
         "55.0",
         "339",
         "4.25",
         "4.28",
         "2.73"
        ],
        [
         "11",
         "0.23",
         "Ideal",
         "J",
         "VS1",
         "62.8",
         "56.0",
         "340",
         "3.93",
         "3.9",
         "2.46"
        ],
        [
         "12",
         "0.22",
         "Premium",
         "F",
         "SI1",
         "60.4",
         "61.0",
         "342",
         "3.88",
         "3.84",
         "2.33"
        ],
        [
         "13",
         "0.31",
         "Ideal",
         "J",
         "SI2",
         "62.2",
         "54.0",
         "344",
         "4.35",
         "4.37",
         "2.71"
        ],
        [
         "14",
         "0.2",
         "Premium",
         "E",
         "SI2",
         "60.2",
         "62.0",
         "345",
         "3.79",
         "3.75",
         "2.27"
        ],
        [
         "15",
         "0.32",
         "Premium",
         "E",
         "I1",
         "60.9",
         "58.0",
         "345",
         "4.38",
         "4.42",
         "2.68"
        ],
        [
         "16",
         "0.3",
         "Ideal",
         "I",
         "SI2",
         "62.0",
         "54.0",
         "348",
         "4.31",
         "4.34",
         "2.68"
        ],
        [
         "17",
         "0.3",
         "Good",
         "J",
         "SI1",
         "63.4",
         "54.0",
         "351",
         "4.23",
         "4.29",
         "2.7"
        ],
        [
         "18",
         "0.3",
         "Good",
         "J",
         "SI1",
         "63.8",
         "56.0",
         "351",
         "4.23",
         "4.26",
         "2.71"
        ],
        [
         "19",
         "0.3",
         "Very Good",
         "J",
         "SI1",
         "62.7",
         "59.0",
         "351",
         "4.21",
         "4.27",
         "2.66"
        ]
       ],
       "shape": {
        "columns": 10,
        "rows": 20
       }
      },
      "text/html": [
       "<div>\n",
       "<style scoped>\n",
       "    .dataframe tbody tr th:only-of-type {\n",
       "        vertical-align: middle;\n",
       "    }\n",
       "\n",
       "    .dataframe tbody tr th {\n",
       "        vertical-align: top;\n",
       "    }\n",
       "\n",
       "    .dataframe thead th {\n",
       "        text-align: right;\n",
       "    }\n",
       "</style>\n",
       "<table border=\"1\" class=\"dataframe\">\n",
       "  <thead>\n",
       "    <tr style=\"text-align: right;\">\n",
       "      <th></th>\n",
       "      <th>carat</th>\n",
       "      <th>cut</th>\n",
       "      <th>color</th>\n",
       "      <th>clarity</th>\n",
       "      <th>depth</th>\n",
       "      <th>table</th>\n",
       "      <th>price</th>\n",
       "      <th>x</th>\n",
       "      <th>y</th>\n",
       "      <th>z</th>\n",
       "    </tr>\n",
       "  </thead>\n",
       "  <tbody>\n",
       "    <tr>\n",
       "      <th>0</th>\n",
       "      <td>0.23</td>\n",
       "      <td>Ideal</td>\n",
       "      <td>E</td>\n",
       "      <td>SI2</td>\n",
       "      <td>61.5</td>\n",
       "      <td>55.0</td>\n",
       "      <td>326</td>\n",
       "      <td>3.95</td>\n",
       "      <td>3.98</td>\n",
       "      <td>2.43</td>\n",
       "    </tr>\n",
       "    <tr>\n",
       "      <th>1</th>\n",
       "      <td>0.21</td>\n",
       "      <td>Premium</td>\n",
       "      <td>E</td>\n",
       "      <td>SI1</td>\n",
       "      <td>59.8</td>\n",
       "      <td>61.0</td>\n",
       "      <td>326</td>\n",
       "      <td>3.89</td>\n",
       "      <td>3.84</td>\n",
       "      <td>2.31</td>\n",
       "    </tr>\n",
       "    <tr>\n",
       "      <th>2</th>\n",
       "      <td>0.23</td>\n",
       "      <td>Good</td>\n",
       "      <td>E</td>\n",
       "      <td>VS1</td>\n",
       "      <td>56.9</td>\n",
       "      <td>65.0</td>\n",
       "      <td>327</td>\n",
       "      <td>4.05</td>\n",
       "      <td>4.07</td>\n",
       "      <td>2.31</td>\n",
       "    </tr>\n",
       "    <tr>\n",
       "      <th>3</th>\n",
       "      <td>0.29</td>\n",
       "      <td>Premium</td>\n",
       "      <td>I</td>\n",
       "      <td>VS2</td>\n",
       "      <td>62.4</td>\n",
       "      <td>58.0</td>\n",
       "      <td>334</td>\n",
       "      <td>4.20</td>\n",
       "      <td>4.23</td>\n",
       "      <td>2.63</td>\n",
       "    </tr>\n",
       "    <tr>\n",
       "      <th>4</th>\n",
       "      <td>0.31</td>\n",
       "      <td>Good</td>\n",
       "      <td>J</td>\n",
       "      <td>SI2</td>\n",
       "      <td>63.3</td>\n",
       "      <td>58.0</td>\n",
       "      <td>335</td>\n",
       "      <td>4.34</td>\n",
       "      <td>4.35</td>\n",
       "      <td>2.75</td>\n",
       "    </tr>\n",
       "    <tr>\n",
       "      <th>5</th>\n",
       "      <td>0.24</td>\n",
       "      <td>Very Good</td>\n",
       "      <td>J</td>\n",
       "      <td>VVS2</td>\n",
       "      <td>62.8</td>\n",
       "      <td>57.0</td>\n",
       "      <td>336</td>\n",
       "      <td>3.94</td>\n",
       "      <td>3.96</td>\n",
       "      <td>2.48</td>\n",
       "    </tr>\n",
       "    <tr>\n",
       "      <th>6</th>\n",
       "      <td>0.24</td>\n",
       "      <td>Very Good</td>\n",
       "      <td>I</td>\n",
       "      <td>VVS1</td>\n",
       "      <td>62.3</td>\n",
       "      <td>57.0</td>\n",
       "      <td>336</td>\n",
       "      <td>3.95</td>\n",
       "      <td>3.98</td>\n",
       "      <td>2.47</td>\n",
       "    </tr>\n",
       "    <tr>\n",
       "      <th>7</th>\n",
       "      <td>0.26</td>\n",
       "      <td>Very Good</td>\n",
       "      <td>H</td>\n",
       "      <td>SI1</td>\n",
       "      <td>61.9</td>\n",
       "      <td>55.0</td>\n",
       "      <td>337</td>\n",
       "      <td>4.07</td>\n",
       "      <td>4.11</td>\n",
       "      <td>2.53</td>\n",
       "    </tr>\n",
       "    <tr>\n",
       "      <th>8</th>\n",
       "      <td>0.22</td>\n",
       "      <td>Fair</td>\n",
       "      <td>E</td>\n",
       "      <td>VS2</td>\n",
       "      <td>65.1</td>\n",
       "      <td>61.0</td>\n",
       "      <td>337</td>\n",
       "      <td>3.87</td>\n",
       "      <td>3.78</td>\n",
       "      <td>2.49</td>\n",
       "    </tr>\n",
       "    <tr>\n",
       "      <th>9</th>\n",
       "      <td>0.23</td>\n",
       "      <td>Very Good</td>\n",
       "      <td>H</td>\n",
       "      <td>VS1</td>\n",
       "      <td>59.4</td>\n",
       "      <td>61.0</td>\n",
       "      <td>338</td>\n",
       "      <td>4.00</td>\n",
       "      <td>4.05</td>\n",
       "      <td>2.39</td>\n",
       "    </tr>\n",
       "    <tr>\n",
       "      <th>10</th>\n",
       "      <td>0.30</td>\n",
       "      <td>Good</td>\n",
       "      <td>J</td>\n",
       "      <td>SI1</td>\n",
       "      <td>64.0</td>\n",
       "      <td>55.0</td>\n",
       "      <td>339</td>\n",
       "      <td>4.25</td>\n",
       "      <td>4.28</td>\n",
       "      <td>2.73</td>\n",
       "    </tr>\n",
       "    <tr>\n",
       "      <th>11</th>\n",
       "      <td>0.23</td>\n",
       "      <td>Ideal</td>\n",
       "      <td>J</td>\n",
       "      <td>VS1</td>\n",
       "      <td>62.8</td>\n",
       "      <td>56.0</td>\n",
       "      <td>340</td>\n",
       "      <td>3.93</td>\n",
       "      <td>3.90</td>\n",
       "      <td>2.46</td>\n",
       "    </tr>\n",
       "    <tr>\n",
       "      <th>12</th>\n",
       "      <td>0.22</td>\n",
       "      <td>Premium</td>\n",
       "      <td>F</td>\n",
       "      <td>SI1</td>\n",
       "      <td>60.4</td>\n",
       "      <td>61.0</td>\n",
       "      <td>342</td>\n",
       "      <td>3.88</td>\n",
       "      <td>3.84</td>\n",
       "      <td>2.33</td>\n",
       "    </tr>\n",
       "    <tr>\n",
       "      <th>13</th>\n",
       "      <td>0.31</td>\n",
       "      <td>Ideal</td>\n",
       "      <td>J</td>\n",
       "      <td>SI2</td>\n",
       "      <td>62.2</td>\n",
       "      <td>54.0</td>\n",
       "      <td>344</td>\n",
       "      <td>4.35</td>\n",
       "      <td>4.37</td>\n",
       "      <td>2.71</td>\n",
       "    </tr>\n",
       "    <tr>\n",
       "      <th>14</th>\n",
       "      <td>0.20</td>\n",
       "      <td>Premium</td>\n",
       "      <td>E</td>\n",
       "      <td>SI2</td>\n",
       "      <td>60.2</td>\n",
       "      <td>62.0</td>\n",
       "      <td>345</td>\n",
       "      <td>3.79</td>\n",
       "      <td>3.75</td>\n",
       "      <td>2.27</td>\n",
       "    </tr>\n",
       "    <tr>\n",
       "      <th>15</th>\n",
       "      <td>0.32</td>\n",
       "      <td>Premium</td>\n",
       "      <td>E</td>\n",
       "      <td>I1</td>\n",
       "      <td>60.9</td>\n",
       "      <td>58.0</td>\n",
       "      <td>345</td>\n",
       "      <td>4.38</td>\n",
       "      <td>4.42</td>\n",
       "      <td>2.68</td>\n",
       "    </tr>\n",
       "    <tr>\n",
       "      <th>16</th>\n",
       "      <td>0.30</td>\n",
       "      <td>Ideal</td>\n",
       "      <td>I</td>\n",
       "      <td>SI2</td>\n",
       "      <td>62.0</td>\n",
       "      <td>54.0</td>\n",
       "      <td>348</td>\n",
       "      <td>4.31</td>\n",
       "      <td>4.34</td>\n",
       "      <td>2.68</td>\n",
       "    </tr>\n",
       "    <tr>\n",
       "      <th>17</th>\n",
       "      <td>0.30</td>\n",
       "      <td>Good</td>\n",
       "      <td>J</td>\n",
       "      <td>SI1</td>\n",
       "      <td>63.4</td>\n",
       "      <td>54.0</td>\n",
       "      <td>351</td>\n",
       "      <td>4.23</td>\n",
       "      <td>4.29</td>\n",
       "      <td>2.70</td>\n",
       "    </tr>\n",
       "    <tr>\n",
       "      <th>18</th>\n",
       "      <td>0.30</td>\n",
       "      <td>Good</td>\n",
       "      <td>J</td>\n",
       "      <td>SI1</td>\n",
       "      <td>63.8</td>\n",
       "      <td>56.0</td>\n",
       "      <td>351</td>\n",
       "      <td>4.23</td>\n",
       "      <td>4.26</td>\n",
       "      <td>2.71</td>\n",
       "    </tr>\n",
       "    <tr>\n",
       "      <th>19</th>\n",
       "      <td>0.30</td>\n",
       "      <td>Very Good</td>\n",
       "      <td>J</td>\n",
       "      <td>SI1</td>\n",
       "      <td>62.7</td>\n",
       "      <td>59.0</td>\n",
       "      <td>351</td>\n",
       "      <td>4.21</td>\n",
       "      <td>4.27</td>\n",
       "      <td>2.66</td>\n",
       "    </tr>\n",
       "  </tbody>\n",
       "</table>\n",
       "</div>"
      ],
      "text/plain": [
       "    carat        cut color clarity  depth  table  price     x     y     z\n",
       "0    0.23      Ideal     E     SI2   61.5   55.0    326  3.95  3.98  2.43\n",
       "1    0.21    Premium     E     SI1   59.8   61.0    326  3.89  3.84  2.31\n",
       "2    0.23       Good     E     VS1   56.9   65.0    327  4.05  4.07  2.31\n",
       "3    0.29    Premium     I     VS2   62.4   58.0    334  4.20  4.23  2.63\n",
       "4    0.31       Good     J     SI2   63.3   58.0    335  4.34  4.35  2.75\n",
       "5    0.24  Very Good     J    VVS2   62.8   57.0    336  3.94  3.96  2.48\n",
       "6    0.24  Very Good     I    VVS1   62.3   57.0    336  3.95  3.98  2.47\n",
       "7    0.26  Very Good     H     SI1   61.9   55.0    337  4.07  4.11  2.53\n",
       "8    0.22       Fair     E     VS2   65.1   61.0    337  3.87  3.78  2.49\n",
       "9    0.23  Very Good     H     VS1   59.4   61.0    338  4.00  4.05  2.39\n",
       "10   0.30       Good     J     SI1   64.0   55.0    339  4.25  4.28  2.73\n",
       "11   0.23      Ideal     J     VS1   62.8   56.0    340  3.93  3.90  2.46\n",
       "12   0.22    Premium     F     SI1   60.4   61.0    342  3.88  3.84  2.33\n",
       "13   0.31      Ideal     J     SI2   62.2   54.0    344  4.35  4.37  2.71\n",
       "14   0.20    Premium     E     SI2   60.2   62.0    345  3.79  3.75  2.27\n",
       "15   0.32    Premium     E      I1   60.9   58.0    345  4.38  4.42  2.68\n",
       "16   0.30      Ideal     I     SI2   62.0   54.0    348  4.31  4.34  2.68\n",
       "17   0.30       Good     J     SI1   63.4   54.0    351  4.23  4.29  2.70\n",
       "18   0.30       Good     J     SI1   63.8   56.0    351  4.23  4.26  2.71\n",
       "19   0.30  Very Good     J     SI1   62.7   59.0    351  4.21  4.27  2.66"
      ]
     },
     "execution_count": 21,
     "metadata": {},
     "output_type": "execute_result"
    }
   ],
   "source": [
    "import pandas as pd\n",
    "import seaborn as sns\n",
    "\n",
    "df = sns.load_dataset(\"diamonds\")\n",
    "df.head(20)"
   ]
  },
  {
   "cell_type": "code",
   "execution_count": 22,
   "id": "9d33b95f",
   "metadata": {},
   "outputs": [
    {
     "name": "stdout",
     "output_type": "stream",
     "text": [
      "평균 가격:  6143.805495744899\n"
     ]
    }
   ],
   "source": [
    "dia_mean = df[(df[\"carat\"] >= 0.5) & (df[\"cut\"] == \"Premium\")]\n",
    "print(\"평균 가격: \", dia_mean[\"price\"].mean())"
   ]
  },
  {
   "cell_type": "code",
   "execution_count": 23,
   "id": "6792c355",
   "metadata": {},
   "outputs": [
    {
     "data": {
      "application/vnd.microsoft.datawrangler.viewer.v0+json": {
       "columns": [
        {
         "name": "index",
         "rawType": "object",
         "type": "string"
        },
        {
         "name": "평균",
         "rawType": "float64",
         "type": "float"
        },
        {
         "name": "중앙값",
         "rawType": "float64",
         "type": "float"
        },
        {
         "name": "표준편차",
         "rawType": "float64",
         "type": "float"
        }
       ],
       "ref": "2fedb431-e46e-4d37-ade2-13c0e554f1b9",
       "rows": [
        [
         "price",
         "3932.799721913237",
         "2401.0",
         "3989.439738146379"
        ]
       ],
       "shape": {
        "columns": 3,
        "rows": 1
       }
      },
      "text/html": [
       "<div>\n",
       "<style scoped>\n",
       "    .dataframe tbody tr th:only-of-type {\n",
       "        vertical-align: middle;\n",
       "    }\n",
       "\n",
       "    .dataframe tbody tr th {\n",
       "        vertical-align: top;\n",
       "    }\n",
       "\n",
       "    .dataframe thead th {\n",
       "        text-align: right;\n",
       "    }\n",
       "</style>\n",
       "<table border=\"1\" class=\"dataframe\">\n",
       "  <thead>\n",
       "    <tr style=\"text-align: right;\">\n",
       "      <th></th>\n",
       "      <th>평균</th>\n",
       "      <th>중앙값</th>\n",
       "      <th>표준편차</th>\n",
       "    </tr>\n",
       "  </thead>\n",
       "  <tbody>\n",
       "    <tr>\n",
       "      <th>price</th>\n",
       "      <td>3932.799722</td>\n",
       "      <td>2401.0</td>\n",
       "      <td>3989.439738</td>\n",
       "    </tr>\n",
       "  </tbody>\n",
       "</table>\n",
       "</div>"
      ],
      "text/plain": [
       "                평균     중앙값         표준편차\n",
       "price  3932.799722  2401.0  3989.439738"
      ]
     },
     "execution_count": 23,
     "metadata": {},
     "output_type": "execute_result"
    }
   ],
   "source": [
    "df_ans = df[\"price\"].agg([\"mean\",\"median\",\"std\"]).to_frame().T\n",
    "\n",
    "df_ans.columns = [\"평균\", \"중앙값\", \"표준편차\"]\n",
    "pd.DataFrame(df_ans)"
   ]
  },
  {
   "cell_type": "markdown",
   "id": "66ff981a",
   "metadata": {},
   "source": [
    "## [12강]"
   ]
  },
  {
   "cell_type": "code",
   "execution_count": 24,
   "id": "a9128c99",
   "metadata": {},
   "outputs": [
    {
     "data": {
      "application/vnd.microsoft.datawrangler.viewer.v0+json": {
       "columns": [
        {
         "name": "index",
         "rawType": "int64",
         "type": "integer"
        },
        {
         "name": "method",
         "rawType": "object",
         "type": "string"
        },
        {
         "name": "number",
         "rawType": "int64",
         "type": "integer"
        },
        {
         "name": "orbital_period",
         "rawType": "float64",
         "type": "float"
        },
        {
         "name": "mass",
         "rawType": "float64",
         "type": "float"
        },
        {
         "name": "distance",
         "rawType": "float64",
         "type": "float"
        },
        {
         "name": "year",
         "rawType": "int64",
         "type": "integer"
        }
       ],
       "ref": "8c6ce1f4-dbb0-4e6f-a187-1b1ce5c914b9",
       "rows": [
        [
         "0",
         "Radial Velocity",
         "1",
         "269.3",
         "7.1",
         "77.4",
         "2006"
        ],
        [
         "1",
         "Radial Velocity",
         "1",
         "874.774",
         "2.21",
         "56.95",
         "2008"
        ],
        [
         "2",
         "Radial Velocity",
         "1",
         "763.0",
         "2.6",
         "19.84",
         "2011"
        ],
        [
         "3",
         "Radial Velocity",
         "1",
         "326.03",
         "19.4",
         "110.62",
         "2007"
        ],
        [
         "4",
         "Radial Velocity",
         "1",
         "516.22",
         "10.5",
         "119.47",
         "2009"
        ]
       ],
       "shape": {
        "columns": 6,
        "rows": 5
       }
      },
      "text/html": [
       "<div>\n",
       "<style scoped>\n",
       "    .dataframe tbody tr th:only-of-type {\n",
       "        vertical-align: middle;\n",
       "    }\n",
       "\n",
       "    .dataframe tbody tr th {\n",
       "        vertical-align: top;\n",
       "    }\n",
       "\n",
       "    .dataframe thead th {\n",
       "        text-align: right;\n",
       "    }\n",
       "</style>\n",
       "<table border=\"1\" class=\"dataframe\">\n",
       "  <thead>\n",
       "    <tr style=\"text-align: right;\">\n",
       "      <th></th>\n",
       "      <th>method</th>\n",
       "      <th>number</th>\n",
       "      <th>orbital_period</th>\n",
       "      <th>mass</th>\n",
       "      <th>distance</th>\n",
       "      <th>year</th>\n",
       "    </tr>\n",
       "  </thead>\n",
       "  <tbody>\n",
       "    <tr>\n",
       "      <th>0</th>\n",
       "      <td>Radial Velocity</td>\n",
       "      <td>1</td>\n",
       "      <td>269.300</td>\n",
       "      <td>7.10</td>\n",
       "      <td>77.40</td>\n",
       "      <td>2006</td>\n",
       "    </tr>\n",
       "    <tr>\n",
       "      <th>1</th>\n",
       "      <td>Radial Velocity</td>\n",
       "      <td>1</td>\n",
       "      <td>874.774</td>\n",
       "      <td>2.21</td>\n",
       "      <td>56.95</td>\n",
       "      <td>2008</td>\n",
       "    </tr>\n",
       "    <tr>\n",
       "      <th>2</th>\n",
       "      <td>Radial Velocity</td>\n",
       "      <td>1</td>\n",
       "      <td>763.000</td>\n",
       "      <td>2.60</td>\n",
       "      <td>19.84</td>\n",
       "      <td>2011</td>\n",
       "    </tr>\n",
       "    <tr>\n",
       "      <th>3</th>\n",
       "      <td>Radial Velocity</td>\n",
       "      <td>1</td>\n",
       "      <td>326.030</td>\n",
       "      <td>19.40</td>\n",
       "      <td>110.62</td>\n",
       "      <td>2007</td>\n",
       "    </tr>\n",
       "    <tr>\n",
       "      <th>4</th>\n",
       "      <td>Radial Velocity</td>\n",
       "      <td>1</td>\n",
       "      <td>516.220</td>\n",
       "      <td>10.50</td>\n",
       "      <td>119.47</td>\n",
       "      <td>2009</td>\n",
       "    </tr>\n",
       "  </tbody>\n",
       "</table>\n",
       "</div>"
      ],
      "text/plain": [
       "            method  number  orbital_period   mass  distance  year\n",
       "0  Radial Velocity       1         269.300   7.10     77.40  2006\n",
       "1  Radial Velocity       1         874.774   2.21     56.95  2008\n",
       "2  Radial Velocity       1         763.000   2.60     19.84  2011\n",
       "3  Radial Velocity       1         326.030  19.40    110.62  2007\n",
       "4  Radial Velocity       1         516.220  10.50    119.47  2009"
      ]
     },
     "execution_count": 24,
     "metadata": {},
     "output_type": "execute_result"
    }
   ],
   "source": [
    "import pandas as pd\n",
    "import seaborn as sns\n",
    "\n",
    "df = sns.load_dataset(\"planets\")\n",
    "df.head()"
   ]
  },
  {
   "cell_type": "code",
   "execution_count": 25,
   "id": "cbf65cec",
   "metadata": {},
   "outputs": [
    {
     "data": {
      "application/vnd.microsoft.datawrangler.viewer.v0+json": {
       "columns": [
        {
         "name": "index",
         "rawType": "object",
         "type": "string"
        },
        {
         "name": "0",
         "rawType": "int64",
         "type": "integer"
        }
       ],
       "ref": "1a5b4a8c-6afa-460d-8b0c-6c9f7d49d38b",
       "rows": [
        [
         "method",
         "0"
        ],
        [
         "number",
         "0"
        ],
        [
         "orbital_period",
         "43"
        ],
        [
         "mass",
         "522"
        ],
        [
         "distance",
         "227"
        ],
        [
         "year",
         "0"
        ]
       ],
       "shape": {
        "columns": 1,
        "rows": 6
       }
      },
      "text/plain": [
       "method              0\n",
       "number              0\n",
       "orbital_period     43\n",
       "mass              522\n",
       "distance          227\n",
       "year                0\n",
       "dtype: int64"
      ]
     },
     "execution_count": 25,
     "metadata": {},
     "output_type": "execute_result"
    }
   ],
   "source": [
    "df.isna().sum()"
   ]
  },
  {
   "cell_type": "markdown",
   "id": "c44a8abb",
   "metadata": {},
   "source": [
    "또또 axis 제발 암기해"
   ]
  },
  {
   "cell_type": "code",
   "execution_count": 26,
   "id": "5ea58505",
   "metadata": {},
   "outputs": [
    {
     "data": {
      "application/vnd.microsoft.datawrangler.viewer.v0+json": {
       "columns": [
        {
         "name": "index",
         "rawType": "object",
         "type": "string"
        },
        {
         "name": "0",
         "rawType": "int64",
         "type": "integer"
        }
       ],
       "ref": "2d2e0c46-6d7c-4423-b31a-6a0bbd25e382",
       "rows": [
        [
         "method",
         "0"
        ],
        [
         "number",
         "0"
        ],
        [
         "orbital_period",
         "43"
        ],
        [
         "distance",
         "227"
        ],
        [
         "year",
         "0"
        ]
       ],
       "shape": {
        "columns": 1,
        "rows": 5
       }
      },
      "text/plain": [
       "method              0\n",
       "number              0\n",
       "orbital_period     43\n",
       "distance          227\n",
       "year                0\n",
       "dtype: int64"
      ]
     },
     "execution_count": 26,
     "metadata": {},
     "output_type": "execute_result"
    }
   ],
   "source": [
    "rev_df = df.dropna(thresh = 600, axis = 1)\n",
    "rev_df.isna().sum()"
   ]
  },
  {
   "cell_type": "code",
   "execution_count": 27,
   "id": "ebe99fc5",
   "metadata": {},
   "outputs": [
    {
     "name": "stderr",
     "output_type": "stream",
     "text": [
      "C:\\Users\\kne12\\AppData\\Local\\Temp\\ipykernel_17120\\2461642316.py:1: SettingWithCopyWarning: \n",
      "A value is trying to be set on a copy of a slice from a DataFrame.\n",
      "Try using .loc[row_indexer,col_indexer] = value instead\n",
      "\n",
      "See the caveats in the documentation: https://pandas.pydata.org/pandas-docs/stable/user_guide/indexing.html#returning-a-view-versus-a-copy\n",
      "  rev_df[\"distance\"] = rev_df[\"distance\"].fillna(7)\n"
     ]
    },
    {
     "data": {
      "application/vnd.microsoft.datawrangler.viewer.v0+json": {
       "columns": [
        {
         "name": "index",
         "rawType": "int64",
         "type": "integer"
        },
        {
         "name": "method",
         "rawType": "object",
         "type": "string"
        },
        {
         "name": "number",
         "rawType": "int64",
         "type": "integer"
        },
        {
         "name": "orbital_period",
         "rawType": "float64",
         "type": "float"
        },
        {
         "name": "distance",
         "rawType": "float64",
         "type": "float"
        },
        {
         "name": "year",
         "rawType": "int64",
         "type": "integer"
        }
       ],
       "ref": "dd71a2cc-b33c-4c99-8cdb-2f527a45e95f",
       "rows": [
        [
         "32",
         "Eclipse Timing Variations",
         "1",
         "10220.0",
         "7.0",
         "2009"
        ],
        [
         "33",
         "Imaging",
         "1",
         null,
         "7.0",
         "2008"
        ],
        [
         "41",
         "Eclipse Timing Variations",
         "1",
         "2900.0",
         "7.0",
         "2011"
        ],
        [
         "42",
         "Eclipse Timing Variations",
         "1",
         "4343.5",
         "7.0",
         "2012"
        ],
        [
         "43",
         "Eclipse Timing Variations",
         "2",
         "5840.0",
         "7.0",
         "2011"
        ],
        [
         "44",
         "Eclipse Timing Variations",
         "2",
         "1916.25",
         "7.0",
         "2011"
        ],
        [
         "77",
         "Radial Velocity",
         "1",
         "714.3",
         "7.0",
         "2007"
        ],
        [
         "85",
         "Radial Velocity",
         "2",
         "379.63",
         "7.0",
         "2009"
        ],
        [
         "86",
         "Radial Velocity",
         "2",
         "621.99",
         "7.0",
         "2009"
        ],
        [
         "87",
         "Radial Velocity",
         "1",
         "578.2",
         "7.0",
         "2012"
        ],
        [
         "88",
         "Radial Velocity",
         "1",
         "392.6",
         "7.0",
         "2011"
        ],
        [
         "90",
         "Imaging",
         "1",
         null,
         "7.0",
         "2006"
        ],
        [
         "91",
         "Transit",
         "1",
         "1.5089557",
         "7.0",
         "2008"
        ],
        [
         "94",
         "Transit",
         "1",
         "9.20205",
         "7.0",
         "2008"
        ],
        [
         "95",
         "Transit",
         "1",
         "4.0378962",
         "7.0",
         "2009"
        ],
        [
         "96",
         "Transit",
         "1",
         "8.886593",
         "7.0",
         "2009"
        ],
        [
         "112",
         "Transit",
         "1",
         "3.57532",
         "7.0",
         "2014"
        ],
        [
         "146",
         "Transit",
         "1",
         "1.58040482",
         "7.0",
         "2009"
        ],
        [
         "255",
         "Radial Velocity",
         "1",
         "359.9",
         "7.0",
         "2007"
        ],
        [
         "355",
         "Radial Velocity",
         "1",
         "851.8",
         "7.0",
         "2007"
        ],
        [
         "532",
         "Radial Velocity",
         "1",
         "538.0",
         "7.0",
         "2007"
        ],
        [
         "608",
         "Radial Velocity",
         "1",
         "2093.3",
         "7.0",
         "2012"
        ],
        [
         "618",
         "Radial Velocity",
         "1",
         "192.0",
         "7.0",
         "2013"
        ],
        [
         "619",
         "Radial Velocity",
         "1",
         "501.75",
         "7.0",
         "2009"
        ],
        [
         "655",
         "Transit",
         "1",
         "3.54846",
         "7.0",
         "2009"
        ],
        [
         "656",
         "Transit",
         "1",
         "3.234723",
         "7.0",
         "2009"
        ],
        [
         "657",
         "Transit",
         "1",
         "4.885525",
         "7.0",
         "2009"
        ],
        [
         "671",
         "Transit",
         "1",
         "1.7635892",
         "7.0",
         "2011"
        ],
        [
         "673",
         "Transit",
         "1",
         "4.942782",
         "7.0",
         "2011"
        ],
        [
         "676",
         "Transit",
         "3",
         "3.504725",
         "7.0",
         "2011"
        ],
        [
         "677",
         "Transit",
         "3",
         "7.64159",
         "7.0",
         "2011"
        ],
        [
         "678",
         "Transit",
         "3",
         "14.85888",
         "7.0",
         "2011"
        ],
        [
         "692",
         "Transit",
         "3",
         "6.2385",
         "7.0",
         "2011"
        ],
        [
         "693",
         "Transit",
         "3",
         "12.7204",
         "7.0",
         "2011"
        ],
        [
         "694",
         "Radial Velocity",
         "3",
         "123.0",
         "7.0",
         "2014"
        ],
        [
         "695",
         "Transit",
         "2",
         "12.2829",
         "7.0",
         "2011"
        ],
        [
         "696",
         "Transit",
         "2",
         "17.2513",
         "7.0",
         "2011"
        ],
        [
         "697",
         "Transit",
         "2",
         "15.3348",
         "7.0",
         "2011"
        ],
        [
         "698",
         "Transit",
         "2",
         "31.3309",
         "7.0",
         "2011"
        ],
        [
         "699",
         "Transit",
         "2",
         "5.9123",
         "7.0",
         "2011"
        ],
        [
         "700",
         "Transit",
         "2",
         "8.9858",
         "7.0",
         "2011"
        ],
        [
         "713",
         "Transit",
         "5",
         "5.66793",
         "7.0",
         "2011"
        ],
        [
         "714",
         "Transit",
         "5",
         "13.17562",
         "7.0",
         "2011"
        ],
        [
         "715",
         "Transit",
         "5",
         "21.77596",
         "7.0",
         "2011"
        ],
        [
         "716",
         "Transit",
         "5",
         "31.7844",
         "7.0",
         "2011"
        ],
        [
         "717",
         "Transit",
         "5",
         "41.02902",
         "7.0",
         "2011"
        ],
        [
         "739",
         "Transit",
         "4",
         "4.7779803",
         "7.0",
         "2012"
        ],
        [
         "740",
         "Transit",
         "4",
         "9.6739283",
         "7.0",
         "2012"
        ],
        [
         "741",
         "Transit",
         "4",
         "42.8961",
         "7.0",
         "2014"
        ],
        [
         "742",
         "Radial Velocity",
         "4",
         "982.0",
         "7.0",
         "2014"
        ]
       ],
       "shape": {
        "columns": 5,
        "rows": 227
       }
      },
      "text/html": [
       "<div>\n",
       "<style scoped>\n",
       "    .dataframe tbody tr th:only-of-type {\n",
       "        vertical-align: middle;\n",
       "    }\n",
       "\n",
       "    .dataframe tbody tr th {\n",
       "        vertical-align: top;\n",
       "    }\n",
       "\n",
       "    .dataframe thead th {\n",
       "        text-align: right;\n",
       "    }\n",
       "</style>\n",
       "<table border=\"1\" class=\"dataframe\">\n",
       "  <thead>\n",
       "    <tr style=\"text-align: right;\">\n",
       "      <th></th>\n",
       "      <th>method</th>\n",
       "      <th>number</th>\n",
       "      <th>orbital_period</th>\n",
       "      <th>distance</th>\n",
       "      <th>year</th>\n",
       "    </tr>\n",
       "  </thead>\n",
       "  <tbody>\n",
       "    <tr>\n",
       "      <th>32</th>\n",
       "      <td>Eclipse Timing Variations</td>\n",
       "      <td>1</td>\n",
       "      <td>10220.000000</td>\n",
       "      <td>7.0</td>\n",
       "      <td>2009</td>\n",
       "    </tr>\n",
       "    <tr>\n",
       "      <th>33</th>\n",
       "      <td>Imaging</td>\n",
       "      <td>1</td>\n",
       "      <td>NaN</td>\n",
       "      <td>7.0</td>\n",
       "      <td>2008</td>\n",
       "    </tr>\n",
       "    <tr>\n",
       "      <th>41</th>\n",
       "      <td>Eclipse Timing Variations</td>\n",
       "      <td>1</td>\n",
       "      <td>2900.000000</td>\n",
       "      <td>7.0</td>\n",
       "      <td>2011</td>\n",
       "    </tr>\n",
       "    <tr>\n",
       "      <th>42</th>\n",
       "      <td>Eclipse Timing Variations</td>\n",
       "      <td>1</td>\n",
       "      <td>4343.500000</td>\n",
       "      <td>7.0</td>\n",
       "      <td>2012</td>\n",
       "    </tr>\n",
       "    <tr>\n",
       "      <th>43</th>\n",
       "      <td>Eclipse Timing Variations</td>\n",
       "      <td>2</td>\n",
       "      <td>5840.000000</td>\n",
       "      <td>7.0</td>\n",
       "      <td>2011</td>\n",
       "    </tr>\n",
       "    <tr>\n",
       "      <th>...</th>\n",
       "      <td>...</td>\n",
       "      <td>...</td>\n",
       "      <td>...</td>\n",
       "      <td>...</td>\n",
       "      <td>...</td>\n",
       "    </tr>\n",
       "    <tr>\n",
       "      <th>989</th>\n",
       "      <td>Transit</td>\n",
       "      <td>1</td>\n",
       "      <td>3.161575</td>\n",
       "      <td>7.0</td>\n",
       "      <td>2011</td>\n",
       "    </tr>\n",
       "    <tr>\n",
       "      <th>997</th>\n",
       "      <td>Transit</td>\n",
       "      <td>1</td>\n",
       "      <td>2.423804</td>\n",
       "      <td>7.0</td>\n",
       "      <td>2011</td>\n",
       "    </tr>\n",
       "    <tr>\n",
       "      <th>998</th>\n",
       "      <td>Transit</td>\n",
       "      <td>1</td>\n",
       "      <td>3.126088</td>\n",
       "      <td>7.0</td>\n",
       "      <td>2011</td>\n",
       "    </tr>\n",
       "    <tr>\n",
       "      <th>999</th>\n",
       "      <td>Transit</td>\n",
       "      <td>1</td>\n",
       "      <td>1.430370</td>\n",
       "      <td>7.0</td>\n",
       "      <td>2011</td>\n",
       "    </tr>\n",
       "    <tr>\n",
       "      <th>1001</th>\n",
       "      <td>Transit</td>\n",
       "      <td>1</td>\n",
       "      <td>2.143634</td>\n",
       "      <td>7.0</td>\n",
       "      <td>2011</td>\n",
       "    </tr>\n",
       "  </tbody>\n",
       "</table>\n",
       "<p>227 rows × 5 columns</p>\n",
       "</div>"
      ],
      "text/plain": [
       "                         method  number  orbital_period  distance  year\n",
       "32    Eclipse Timing Variations       1    10220.000000       7.0  2009\n",
       "33                      Imaging       1             NaN       7.0  2008\n",
       "41    Eclipse Timing Variations       1     2900.000000       7.0  2011\n",
       "42    Eclipse Timing Variations       1     4343.500000       7.0  2012\n",
       "43    Eclipse Timing Variations       2     5840.000000       7.0  2011\n",
       "...                         ...     ...             ...       ...   ...\n",
       "989                     Transit       1        3.161575       7.0  2011\n",
       "997                     Transit       1        2.423804       7.0  2011\n",
       "998                     Transit       1        3.126088       7.0  2011\n",
       "999                     Transit       1        1.430370       7.0  2011\n",
       "1001                    Transit       1        2.143634       7.0  2011\n",
       "\n",
       "[227 rows x 5 columns]"
      ]
     },
     "execution_count": 27,
     "metadata": {},
     "output_type": "execute_result"
    }
   ],
   "source": [
    "rev_df[\"distance\"] = rev_df[\"distance\"].fillna(7)\n",
    "final_df = rev_df[rev_df[\"distance\"] == 7]\n",
    "pd.DataFrame(final_df)"
   ]
  },
  {
   "cell_type": "code",
   "execution_count": 28,
   "id": "513ee0b1",
   "metadata": {},
   "outputs": [
    {
     "name": "stdout",
     "output_type": "stream",
     "text": [
      "distance 컬럼의 합:  1589.0\n"
     ]
    }
   ],
   "source": [
    "a = final_df[\"distance\"].sum()\n",
    "print(\"distance 컬럼의 합: \", a)"
   ]
  },
  {
   "cell_type": "code",
   "execution_count": 29,
   "id": "b09e172a",
   "metadata": {},
   "outputs": [
    {
     "data": {
      "application/vnd.microsoft.datawrangler.viewer.v0+json": {
       "columns": [
        {
         "name": "index",
         "rawType": "int64",
         "type": "integer"
        },
        {
         "name": "sepal_length",
         "rawType": "float64",
         "type": "float"
        },
        {
         "name": "sepal_width",
         "rawType": "float64",
         "type": "float"
        },
        {
         "name": "petal_length",
         "rawType": "float64",
         "type": "float"
        },
        {
         "name": "petal_width",
         "rawType": "float64",
         "type": "float"
        },
        {
         "name": "species",
         "rawType": "object",
         "type": "string"
        }
       ],
       "ref": "7dfc7b23-b588-41e5-a010-f06cce4bfbc9",
       "rows": [
        [
         "0",
         "5.1",
         "3.5",
         "1.4",
         "0.2",
         "setosa"
        ],
        [
         "1",
         "4.9",
         "3.0",
         "1.4",
         "0.2",
         "setosa"
        ],
        [
         "2",
         "4.7",
         "3.2",
         "1.3",
         "0.2",
         "setosa"
        ],
        [
         "3",
         "4.6",
         "3.1",
         "1.5",
         "0.2",
         "setosa"
        ],
        [
         "4",
         "5.0",
         "3.6",
         "1.4",
         "0.2",
         "setosa"
        ],
        [
         "5",
         "5.4",
         "3.9",
         "1.7",
         "0.4",
         "setosa"
        ],
        [
         "6",
         "4.6",
         "3.4",
         "1.4",
         "0.3",
         "setosa"
        ],
        [
         "7",
         "5.0",
         "3.4",
         "1.5",
         "0.2",
         "setosa"
        ],
        [
         "8",
         "4.4",
         "2.9",
         "1.4",
         "0.2",
         "setosa"
        ],
        [
         "9",
         "4.9",
         "3.1",
         "1.5",
         "0.1",
         "setosa"
        ],
        [
         "10",
         "5.4",
         "3.7",
         "1.5",
         "0.2",
         "setosa"
        ],
        [
         "11",
         "4.8",
         "3.4",
         "1.6",
         "0.2",
         "setosa"
        ],
        [
         "12",
         "4.8",
         "3.0",
         "1.4",
         "0.1",
         "setosa"
        ],
        [
         "13",
         "4.3",
         "3.0",
         "1.1",
         "0.1",
         "setosa"
        ],
        [
         "14",
         "5.8",
         "4.0",
         "1.2",
         "0.2",
         "setosa"
        ],
        [
         "15",
         "5.7",
         "4.4",
         "1.5",
         "0.4",
         "setosa"
        ],
        [
         "16",
         "5.4",
         "3.9",
         "1.3",
         "0.4",
         "setosa"
        ],
        [
         "17",
         "5.1",
         "3.5",
         "1.4",
         "0.3",
         "setosa"
        ],
        [
         "18",
         "5.7",
         "3.8",
         "1.7",
         "0.3",
         "setosa"
        ],
        [
         "19",
         "5.1",
         "3.8",
         "1.5",
         "0.3",
         "setosa"
        ],
        [
         "20",
         "5.4",
         "3.4",
         "1.7",
         "0.2",
         "setosa"
        ],
        [
         "21",
         "5.1",
         "3.7",
         "1.5",
         "0.4",
         "setosa"
        ],
        [
         "22",
         "4.6",
         "3.6",
         "1.0",
         "0.2",
         "setosa"
        ],
        [
         "23",
         "5.1",
         "3.3",
         "1.7",
         "0.5",
         "setosa"
        ],
        [
         "24",
         "4.8",
         "3.4",
         "1.9",
         "0.2",
         "setosa"
        ],
        [
         "25",
         "5.0",
         "3.0",
         "1.6",
         "0.2",
         "setosa"
        ],
        [
         "26",
         "5.0",
         "3.4",
         "1.6",
         "0.4",
         "setosa"
        ],
        [
         "27",
         "5.2",
         "3.5",
         "1.5",
         "0.2",
         "setosa"
        ],
        [
         "28",
         "5.2",
         "3.4",
         "1.4",
         "0.2",
         "setosa"
        ],
        [
         "29",
         "4.7",
         "3.2",
         "1.6",
         "0.2",
         "setosa"
        ],
        [
         "30",
         "4.8",
         "3.1",
         "1.6",
         "0.2",
         "setosa"
        ],
        [
         "31",
         "5.4",
         "3.4",
         "1.5",
         "0.4",
         "setosa"
        ],
        [
         "32",
         "5.2",
         "4.1",
         "1.5",
         "0.1",
         "setosa"
        ],
        [
         "33",
         "5.5",
         "4.2",
         "1.4",
         "0.2",
         "setosa"
        ],
        [
         "34",
         "4.9",
         "3.1",
         "1.5",
         "0.2",
         "setosa"
        ],
        [
         "35",
         "5.0",
         "3.2",
         "1.2",
         "0.2",
         "setosa"
        ],
        [
         "36",
         "5.5",
         "3.5",
         "1.3",
         "0.2",
         "setosa"
        ],
        [
         "37",
         "4.9",
         "3.6",
         "1.4",
         "0.1",
         "setosa"
        ],
        [
         "38",
         "4.4",
         "3.0",
         "1.3",
         "0.2",
         "setosa"
        ],
        [
         "39",
         "5.1",
         "3.4",
         "1.5",
         "0.2",
         "setosa"
        ],
        [
         "40",
         "5.0",
         "3.5",
         "1.3",
         "0.3",
         "setosa"
        ],
        [
         "41",
         "4.5",
         "2.3",
         "1.3",
         "0.3",
         "setosa"
        ],
        [
         "42",
         "4.4",
         "3.2",
         "1.3",
         "0.2",
         "setosa"
        ],
        [
         "43",
         "5.0",
         "3.5",
         "1.6",
         "0.6",
         "setosa"
        ],
        [
         "44",
         "5.1",
         "3.8",
         "1.9",
         "0.4",
         "setosa"
        ],
        [
         "45",
         "4.8",
         "3.0",
         "1.4",
         "0.3",
         "setosa"
        ],
        [
         "46",
         "5.1",
         "3.8",
         "1.6",
         "0.2",
         "setosa"
        ],
        [
         "47",
         "4.6",
         "3.2",
         "1.4",
         "0.2",
         "setosa"
        ],
        [
         "48",
         "5.3",
         "3.7",
         "1.5",
         "0.2",
         "setosa"
        ],
        [
         "49",
         "5.0",
         "3.3",
         "1.4",
         "0.2",
         "setosa"
        ]
       ],
       "shape": {
        "columns": 5,
        "rows": 150
       }
      },
      "text/html": [
       "<div>\n",
       "<style scoped>\n",
       "    .dataframe tbody tr th:only-of-type {\n",
       "        vertical-align: middle;\n",
       "    }\n",
       "\n",
       "    .dataframe tbody tr th {\n",
       "        vertical-align: top;\n",
       "    }\n",
       "\n",
       "    .dataframe thead th {\n",
       "        text-align: right;\n",
       "    }\n",
       "</style>\n",
       "<table border=\"1\" class=\"dataframe\">\n",
       "  <thead>\n",
       "    <tr style=\"text-align: right;\">\n",
       "      <th></th>\n",
       "      <th>sepal_length</th>\n",
       "      <th>sepal_width</th>\n",
       "      <th>petal_length</th>\n",
       "      <th>petal_width</th>\n",
       "      <th>species</th>\n",
       "    </tr>\n",
       "  </thead>\n",
       "  <tbody>\n",
       "    <tr>\n",
       "      <th>0</th>\n",
       "      <td>5.1</td>\n",
       "      <td>3.5</td>\n",
       "      <td>1.4</td>\n",
       "      <td>0.2</td>\n",
       "      <td>setosa</td>\n",
       "    </tr>\n",
       "    <tr>\n",
       "      <th>1</th>\n",
       "      <td>4.9</td>\n",
       "      <td>3.0</td>\n",
       "      <td>1.4</td>\n",
       "      <td>0.2</td>\n",
       "      <td>setosa</td>\n",
       "    </tr>\n",
       "    <tr>\n",
       "      <th>2</th>\n",
       "      <td>4.7</td>\n",
       "      <td>3.2</td>\n",
       "      <td>1.3</td>\n",
       "      <td>0.2</td>\n",
       "      <td>setosa</td>\n",
       "    </tr>\n",
       "    <tr>\n",
       "      <th>3</th>\n",
       "      <td>4.6</td>\n",
       "      <td>3.1</td>\n",
       "      <td>1.5</td>\n",
       "      <td>0.2</td>\n",
       "      <td>setosa</td>\n",
       "    </tr>\n",
       "    <tr>\n",
       "      <th>4</th>\n",
       "      <td>5.0</td>\n",
       "      <td>3.6</td>\n",
       "      <td>1.4</td>\n",
       "      <td>0.2</td>\n",
       "      <td>setosa</td>\n",
       "    </tr>\n",
       "    <tr>\n",
       "      <th>...</th>\n",
       "      <td>...</td>\n",
       "      <td>...</td>\n",
       "      <td>...</td>\n",
       "      <td>...</td>\n",
       "      <td>...</td>\n",
       "    </tr>\n",
       "    <tr>\n",
       "      <th>145</th>\n",
       "      <td>6.7</td>\n",
       "      <td>3.0</td>\n",
       "      <td>5.2</td>\n",
       "      <td>2.3</td>\n",
       "      <td>virginica</td>\n",
       "    </tr>\n",
       "    <tr>\n",
       "      <th>146</th>\n",
       "      <td>6.3</td>\n",
       "      <td>2.5</td>\n",
       "      <td>5.0</td>\n",
       "      <td>1.9</td>\n",
       "      <td>virginica</td>\n",
       "    </tr>\n",
       "    <tr>\n",
       "      <th>147</th>\n",
       "      <td>6.5</td>\n",
       "      <td>3.0</td>\n",
       "      <td>5.2</td>\n",
       "      <td>2.0</td>\n",
       "      <td>virginica</td>\n",
       "    </tr>\n",
       "    <tr>\n",
       "      <th>148</th>\n",
       "      <td>6.2</td>\n",
       "      <td>3.4</td>\n",
       "      <td>5.4</td>\n",
       "      <td>2.3</td>\n",
       "      <td>virginica</td>\n",
       "    </tr>\n",
       "    <tr>\n",
       "      <th>149</th>\n",
       "      <td>5.9</td>\n",
       "      <td>3.0</td>\n",
       "      <td>5.1</td>\n",
       "      <td>1.8</td>\n",
       "      <td>virginica</td>\n",
       "    </tr>\n",
       "  </tbody>\n",
       "</table>\n",
       "<p>150 rows × 5 columns</p>\n",
       "</div>"
      ],
      "text/plain": [
       "     sepal_length  sepal_width  petal_length  petal_width    species\n",
       "0             5.1          3.5           1.4          0.2     setosa\n",
       "1             4.9          3.0           1.4          0.2     setosa\n",
       "2             4.7          3.2           1.3          0.2     setosa\n",
       "3             4.6          3.1           1.5          0.2     setosa\n",
       "4             5.0          3.6           1.4          0.2     setosa\n",
       "..            ...          ...           ...          ...        ...\n",
       "145           6.7          3.0           5.2          2.3  virginica\n",
       "146           6.3          2.5           5.0          1.9  virginica\n",
       "147           6.5          3.0           5.2          2.0  virginica\n",
       "148           6.2          3.4           5.4          2.3  virginica\n",
       "149           5.9          3.0           5.1          1.8  virginica\n",
       "\n",
       "[150 rows x 5 columns]"
      ]
     },
     "execution_count": 29,
     "metadata": {},
     "output_type": "execute_result"
    }
   ],
   "source": [
    "import numpy as np\n",
    "import pandas as pd\n",
    "import matplotlib.pyplot as plt\n",
    "import seaborn as sns\n",
    "\n",
    "data = sns.load_dataset(\"iris\")\n",
    "data"
   ]
  },
  {
   "cell_type": "code",
   "execution_count": 30,
   "id": "24b1934b",
   "metadata": {},
   "outputs": [],
   "source": [
    "PetalLength = data[\"petal_length\"]\n",
    "PetalWidth = data[\"petal_width\"]\n",
    "SepalLength = data[\"sepal_length\"]\n",
    "SepalWidth = data[\"sepal_width\"]"
   ]
  },
  {
   "cell_type": "code",
   "execution_count": null,
   "id": "8052d56e",
   "metadata": {},
   "outputs": [
    {
     "data": {
      "image/png": "[encoded data removed]",
      "text/plain": [
       "<Figure size 1500x400 with 1 Axes>"
      ]
     },
     "metadata": {},
     "output_type": "display_data"
    }
   ],
   "source": [
    "plt.figure(figsize=(15,4))\n",
    "\n",
    "plt.plot(PetalLength, linestyle='-', marker='o', markersize=7, label ='Petal Length', color ='red')\n",
    "plt.plot(PetalWidth, linestyle='-', marker='o', markersize=7, label ='Petal Width', color ='green')\n",
    "plt.plot(SepalLength, linestyle='-', marker='o', markersize=7, label ='Sepal Length', color ='blue')\n",
    "plt.plot(SepalWidth, linestyle='-', marker='o', markersize=7, label ='Sepal Width', color ='yellow')\n",
    "\n",
    "plt.title('Iris Line Graph')\n",
    "plt.xlabel('Iris')\n",
    "plt.ylabel('Value')\n",
    "plt.grid()\n",
    "plt.legend()\n",
    "plt.show()"
   ]
  },
  {
   "cell_type": "markdown",
   "id": "63fc0d28",
   "metadata": {},
   "source": [
    "의미: petal_length 데이터를 선 그래프로 그리는 부분이야. 나머지 세 줄도 비슷한데, 다른 데이터를 그리고 스타일을 다르게 했어.\n",
    "상세 설명 (한 줄씩 뜯어보자):\n",
    "plt.plot(): Matplotlib의 기본 선 그래프 함수. x축과 y축 데이터를 연결해서 선으로 그려줌.\n",
    "\n",
    "xdata: x축에 사용할 데이터. 위에서 만든 [0, 1, 2, ...] 같은 인덱스야.\n",
    "\n",
    "data[\"petal_length\"]: y축에 그릴 데이터. data라는 데이터프레임(또는 리스트)에서 \"petal_length\" 컬럼(예: 꽃잎 길이)을 가져옴. 예: [1.4, 1.4, 1.3, 1.5, 1.4] 같은 값이 될 수 있음.\n",
    "\n",
    "linestyle='-': 선의 스타일을 실선(-)으로 설정. 다른 옵션으로는 점선(--), 점+선(-.) 등이 있음.\n",
    "\n",
    "marker='o': 데이터 포인트에 동그라미(o) 마커를 추가. 다른 옵션으로는 +, *, s(사각형) 등이 있음.\n",
    "\n",
    "markersize=7: 마커의 크기를 7(단위는 포인트)으로 설정. 작게(예: 5)나 크게(예: 10) 조정 가능.\n",
    "\n",
    "label=\"Petal Length\": 그래프의 범례(legend)에 표시할 이름. \"Petal Length\"가 범례에 나타남.\n",
    "\n",
    "color=\"red\": 선과 마커의 색상을 빨간색으로 설정. 다른 색상(예: \"blue\", \"green\")도 가능.\n",
    "비유: x축에 번호를 붙이고, y축에 petal_length 값을 점으로 찍은 뒤, 빨간 실선으로 연결하면서 \"Petal Length\"라는 이름표를 붙인 거야."
   ]
  },
  {
   "cell_type": "code",
   "execution_count": 32,
   "id": "dbbb24c0",
   "metadata": {},
   "outputs": [
    {
     "data": {
      "image/png": "[encoded data removed]",
      "text/plain": [
       "<Figure size 1000x500 with 1 Axes>"
      ]
     },
     "metadata": {},
     "output_type": "display_data"
    }
   ],
   "source": [
    "plt.figure(figsize=(10,5))\n",
    "\n",
    "PL_mean = PetalLength.mean()\n",
    "PW_mean = PetalWidth.mean()\n",
    "SL_mean = SepalLength.mean()\n",
    "SW_mean = SepalWidth.mean()\n",
    "\n",
    "x = [\"PetalLength\" , \"PetalWidth\" , \"SepalLength\" , \"SepalWidth\"]\n",
    "y = [PL_mean, PW_mean, SL_mean, SW_mean]\n",
    "\n",
    "plt.bar(x, y, color =[\"red\", \"yellow\", \"green\", \"orange\"], label = [\"Petal Length\",\"Petal Width\",\"Sepal Length\",\"Sepal Width\"])\n",
    "plt.title('Iris Bar Graph')\n",
    "plt.xlabel('Iris')\n",
    "plt.ylabel('Value')\n",
    "plt.grid()\n",
    "plt.legend()\n",
    "plt.show()"
   ]
  },
  {
   "cell_type": "code",
   "execution_count": 33,
   "id": "36ccdb4f",
   "metadata": {},
   "outputs": [
    {
     "data": {
      "image/png": "[encoded data removed]",
      "text/plain": [
       "<Figure size 1000x400 with 1 Axes>"
      ]
     },
     "metadata": {},
     "output_type": "display_data"
    }
   ],
   "source": [
    "plt.figure(figsize=(10,4))\n",
    "\n",
    "x = SepalLength\n",
    "y = SepalWidth\n",
    "\n",
    "plt.scatter(x,y)\n",
    "\n",
    "plt.title('Iris Sepal Scatter Graph')\n",
    "plt.xlabel('Sepal Length')\n",
    "plt.ylabel('Sepal Width')\n",
    "plt.grid()\n",
    "plt.show()"
   ]
  },
  {
   "cell_type": "code",
   "execution_count": 35,
   "id": "7c2f01cc",
   "metadata": {},
   "outputs": [
    {
     "data": {
      "image/png": "[encoded data removed]",
      "text/plain": [
       "<Figure size 800x500 with 1 Axes>"
      ]
     },
     "metadata": {},
     "output_type": "display_data"
    }
   ],
   "source": [
    "plt.figure(figsize=(8,5))\n",
    "\n",
    "x = PetalLength\n",
    "y = PetalWidth\n",
    "final_data = [x,y]\n",
    "\n",
    "plt.boxplot(final_data, tick_labels = [\"Petal Length\",\"Petal Width\"])\n",
    "\n",
    "plt.title('Iris Petal Box Graph')\n",
    "plt.xlabel('Petal')\n",
    "plt.ylabel('Value')\n",
    "plt.show()"
   ]
  },
  {
   "cell_type": "markdown",
   "id": "ec84ea20",
   "metadata": {},
   "source": [
    "## [13강]"
   ]
  },
  {
   "cell_type": "code",
   "execution_count": 1,
   "id": "28884efd",
   "metadata": {},
   "outputs": [
    {
     "data": {
      "text/html": [
       "<div>\n",
       "<style scoped>\n",
       "    .dataframe tbody tr th:only-of-type {\n",
       "        vertical-align: middle;\n",
       "    }\n",
       "\n",
       "    .dataframe tbody tr th {\n",
       "        vertical-align: top;\n",
       "    }\n",
       "\n",
       "    .dataframe thead th {\n",
       "        text-align: right;\n",
       "    }\n",
       "</style>\n",
       "<table border=\"1\" class=\"dataframe\">\n",
       "  <thead>\n",
       "    <tr style=\"text-align: right;\">\n",
       "      <th></th>\n",
       "      <th>total_bill</th>\n",
       "      <th>tip</th>\n",
       "      <th>sex</th>\n",
       "      <th>smoker</th>\n",
       "      <th>day</th>\n",
       "      <th>time</th>\n",
       "      <th>size</th>\n",
       "    </tr>\n",
       "  </thead>\n",
       "  <tbody>\n",
       "    <tr>\n",
       "      <th>0</th>\n",
       "      <td>16.99</td>\n",
       "      <td>1.01</td>\n",
       "      <td>Female</td>\n",
       "      <td>No</td>\n",
       "      <td>Sun</td>\n",
       "      <td>Dinner</td>\n",
       "      <td>2</td>\n",
       "    </tr>\n",
       "    <tr>\n",
       "      <th>1</th>\n",
       "      <td>10.34</td>\n",
       "      <td>1.66</td>\n",
       "      <td>Male</td>\n",
       "      <td>No</td>\n",
       "      <td>Sun</td>\n",
       "      <td>Dinner</td>\n",
       "      <td>3</td>\n",
       "    </tr>\n",
       "    <tr>\n",
       "      <th>2</th>\n",
       "      <td>21.01</td>\n",
       "      <td>3.50</td>\n",
       "      <td>Male</td>\n",
       "      <td>No</td>\n",
       "      <td>Sun</td>\n",
       "      <td>Dinner</td>\n",
       "      <td>3</td>\n",
       "    </tr>\n",
       "    <tr>\n",
       "      <th>3</th>\n",
       "      <td>23.68</td>\n",
       "      <td>3.31</td>\n",
       "      <td>Male</td>\n",
       "      <td>No</td>\n",
       "      <td>Sun</td>\n",
       "      <td>Dinner</td>\n",
       "      <td>2</td>\n",
       "    </tr>\n",
       "    <tr>\n",
       "      <th>4</th>\n",
       "      <td>24.59</td>\n",
       "      <td>3.61</td>\n",
       "      <td>Female</td>\n",
       "      <td>No</td>\n",
       "      <td>Sun</td>\n",
       "      <td>Dinner</td>\n",
       "      <td>4</td>\n",
       "    </tr>\n",
       "    <tr>\n",
       "      <th>...</th>\n",
       "      <td>...</td>\n",
       "      <td>...</td>\n",
       "      <td>...</td>\n",
       "      <td>...</td>\n",
       "      <td>...</td>\n",
       "      <td>...</td>\n",
       "      <td>...</td>\n",
       "    </tr>\n",
       "    <tr>\n",
       "      <th>239</th>\n",
       "      <td>29.03</td>\n",
       "      <td>5.92</td>\n",
       "      <td>Male</td>\n",
       "      <td>No</td>\n",
       "      <td>Sat</td>\n",
       "      <td>Dinner</td>\n",
       "      <td>3</td>\n",
       "    </tr>\n",
       "    <tr>\n",
       "      <th>240</th>\n",
       "      <td>27.18</td>\n",
       "      <td>2.00</td>\n",
       "      <td>Female</td>\n",
       "      <td>Yes</td>\n",
       "      <td>Sat</td>\n",
       "      <td>Dinner</td>\n",
       "      <td>2</td>\n",
       "    </tr>\n",
       "    <tr>\n",
       "      <th>241</th>\n",
       "      <td>22.67</td>\n",
       "      <td>2.00</td>\n",
       "      <td>Male</td>\n",
       "      <td>Yes</td>\n",
       "      <td>Sat</td>\n",
       "      <td>Dinner</td>\n",
       "      <td>2</td>\n",
       "    </tr>\n",
       "    <tr>\n",
       "      <th>242</th>\n",
       "      <td>17.82</td>\n",
       "      <td>1.75</td>\n",
       "      <td>Male</td>\n",
       "      <td>No</td>\n",
       "      <td>Sat</td>\n",
       "      <td>Dinner</td>\n",
       "      <td>2</td>\n",
       "    </tr>\n",
       "    <tr>\n",
       "      <th>243</th>\n",
       "      <td>18.78</td>\n",
       "      <td>3.00</td>\n",
       "      <td>Female</td>\n",
       "      <td>No</td>\n",
       "      <td>Thur</td>\n",
       "      <td>Dinner</td>\n",
       "      <td>2</td>\n",
       "    </tr>\n",
       "  </tbody>\n",
       "</table>\n",
       "<p>244 rows × 7 columns</p>\n",
       "</div>"
      ],
      "text/plain": [
       "     total_bill   tip     sex smoker   day    time  size\n",
       "0         16.99  1.01  Female     No   Sun  Dinner     2\n",
       "1         10.34  1.66    Male     No   Sun  Dinner     3\n",
       "2         21.01  3.50    Male     No   Sun  Dinner     3\n",
       "3         23.68  3.31    Male     No   Sun  Dinner     2\n",
       "4         24.59  3.61  Female     No   Sun  Dinner     4\n",
       "..          ...   ...     ...    ...   ...     ...   ...\n",
       "239       29.03  5.92    Male     No   Sat  Dinner     3\n",
       "240       27.18  2.00  Female    Yes   Sat  Dinner     2\n",
       "241       22.67  2.00    Male    Yes   Sat  Dinner     2\n",
       "242       17.82  1.75    Male     No   Sat  Dinner     2\n",
       "243       18.78  3.00  Female     No  Thur  Dinner     2\n",
       "\n",
       "[244 rows x 7 columns]"
      ]
     },
     "execution_count": 1,
     "metadata": {},
     "output_type": "execute_result"
    }
   ],
   "source": [
    "import pandas as pd\n",
    "import seaborn as sns\n",
    "import numpy as np\n",
    "import matplotlib.pyplot as plt\n",
    "\n",
    "tips = sns.load_dataset('tips')\n",
    "tips"
   ]
  },
  {
   "cell_type": "code",
   "execution_count": 6,
   "id": "7889646f",
   "metadata": {},
   "outputs": [
    {
     "name": "stderr",
     "output_type": "stream",
     "text": [
      "C:\\Users\\kne12\\AppData\\Local\\Temp\\ipykernel_10040\\230230872.py:1: FutureWarning: The default of observed=False is deprecated and will be changed to True in a future version of pandas. Pass observed=False to retain current behavior or observed=True to adopt the future default and silence this warning.\n",
      "  gender_df = tips.groupby(['day','sex'])['day'].count()\n"
     ]
    },
    {
     "data": {
      "text/html": [
       "<div>\n",
       "<style scoped>\n",
       "    .dataframe tbody tr th:only-of-type {\n",
       "        vertical-align: middle;\n",
       "    }\n",
       "\n",
       "    .dataframe tbody tr th {\n",
       "        vertical-align: top;\n",
       "    }\n",
       "\n",
       "    .dataframe thead th {\n",
       "        text-align: right;\n",
       "    }\n",
       "</style>\n",
       "<table border=\"1\" class=\"dataframe\">\n",
       "  <thead>\n",
       "    <tr style=\"text-align: right;\">\n",
       "      <th></th>\n",
       "      <th>day</th>\n",
       "      <th>sex</th>\n",
       "      <th>count</th>\n",
       "    </tr>\n",
       "  </thead>\n",
       "  <tbody>\n",
       "    <tr>\n",
       "      <th>0</th>\n",
       "      <td>Thur</td>\n",
       "      <td>Male</td>\n",
       "      <td>30</td>\n",
       "    </tr>\n",
       "    <tr>\n",
       "      <th>1</th>\n",
       "      <td>Thur</td>\n",
       "      <td>Female</td>\n",
       "      <td>32</td>\n",
       "    </tr>\n",
       "    <tr>\n",
       "      <th>2</th>\n",
       "      <td>Fri</td>\n",
       "      <td>Male</td>\n",
       "      <td>10</td>\n",
       "    </tr>\n",
       "    <tr>\n",
       "      <th>3</th>\n",
       "      <td>Fri</td>\n",
       "      <td>Female</td>\n",
       "      <td>9</td>\n",
       "    </tr>\n",
       "    <tr>\n",
       "      <th>4</th>\n",
       "      <td>Sat</td>\n",
       "      <td>Male</td>\n",
       "      <td>59</td>\n",
       "    </tr>\n",
       "    <tr>\n",
       "      <th>5</th>\n",
       "      <td>Sat</td>\n",
       "      <td>Female</td>\n",
       "      <td>28</td>\n",
       "    </tr>\n",
       "    <tr>\n",
       "      <th>6</th>\n",
       "      <td>Sun</td>\n",
       "      <td>Male</td>\n",
       "      <td>58</td>\n",
       "    </tr>\n",
       "    <tr>\n",
       "      <th>7</th>\n",
       "      <td>Sun</td>\n",
       "      <td>Female</td>\n",
       "      <td>18</td>\n",
       "    </tr>\n",
       "  </tbody>\n",
       "</table>\n",
       "</div>"
      ],
      "text/plain": [
       "    day     sex  count\n",
       "0  Thur    Male     30\n",
       "1  Thur  Female     32\n",
       "2   Fri    Male     10\n",
       "3   Fri  Female      9\n",
       "4   Sat    Male     59\n",
       "5   Sat  Female     28\n",
       "6   Sun    Male     58\n",
       "7   Sun  Female     18"
      ]
     },
     "execution_count": 6,
     "metadata": {},
     "output_type": "execute_result"
    }
   ],
   "source": [
    "gender_df = tips.groupby(['day','sex'])['day'].count()\n",
    "gender_df = gender_df.to_frame(name='count')\n",
    "\n",
    "gender_df = gender_df.reset_index()\n",
    "pd.DataFrame(gender_df)"
   ]
  },
  {
   "cell_type": "code",
   "execution_count": 8,
   "id": "b1d49ee0",
   "metadata": {},
   "outputs": [
    {
     "name": "stderr",
     "output_type": "stream",
     "text": [
      "C:\\Users\\kne12\\AppData\\Local\\Temp\\ipykernel_10040\\1048055249.py:1: FutureWarning: The default of observed=False is deprecated and will be changed to True in a future version of pandas. Pass observed=False to retain current behavior or observed=True to adopt the future default and silence this warning.\n",
      "  smoke_df = tips.groupby(['day','smoker'])['day'].count()\n"
     ]
    },
    {
     "data": {
      "text/html": [
       "<div>\n",
       "<style scoped>\n",
       "    .dataframe tbody tr th:only-of-type {\n",
       "        vertical-align: middle;\n",
       "    }\n",
       "\n",
       "    .dataframe tbody tr th {\n",
       "        vertical-align: top;\n",
       "    }\n",
       "\n",
       "    .dataframe thead th {\n",
       "        text-align: right;\n",
       "    }\n",
       "</style>\n",
       "<table border=\"1\" class=\"dataframe\">\n",
       "  <thead>\n",
       "    <tr style=\"text-align: right;\">\n",
       "      <th></th>\n",
       "      <th>day</th>\n",
       "      <th>smoker</th>\n",
       "      <th>count</th>\n",
       "    </tr>\n",
       "  </thead>\n",
       "  <tbody>\n",
       "    <tr>\n",
       "      <th>0</th>\n",
       "      <td>Thur</td>\n",
       "      <td>Yes</td>\n",
       "      <td>17</td>\n",
       "    </tr>\n",
       "    <tr>\n",
       "      <th>1</th>\n",
       "      <td>Thur</td>\n",
       "      <td>No</td>\n",
       "      <td>45</td>\n",
       "    </tr>\n",
       "    <tr>\n",
       "      <th>2</th>\n",
       "      <td>Fri</td>\n",
       "      <td>Yes</td>\n",
       "      <td>15</td>\n",
       "    </tr>\n",
       "    <tr>\n",
       "      <th>3</th>\n",
       "      <td>Fri</td>\n",
       "      <td>No</td>\n",
       "      <td>4</td>\n",
       "    </tr>\n",
       "    <tr>\n",
       "      <th>4</th>\n",
       "      <td>Sat</td>\n",
       "      <td>Yes</td>\n",
       "      <td>42</td>\n",
       "    </tr>\n",
       "    <tr>\n",
       "      <th>5</th>\n",
       "      <td>Sat</td>\n",
       "      <td>No</td>\n",
       "      <td>45</td>\n",
       "    </tr>\n",
       "    <tr>\n",
       "      <th>6</th>\n",
       "      <td>Sun</td>\n",
       "      <td>Yes</td>\n",
       "      <td>19</td>\n",
       "    </tr>\n",
       "    <tr>\n",
       "      <th>7</th>\n",
       "      <td>Sun</td>\n",
       "      <td>No</td>\n",
       "      <td>57</td>\n",
       "    </tr>\n",
       "  </tbody>\n",
       "</table>\n",
       "</div>"
      ],
      "text/plain": [
       "    day smoker  count\n",
       "0  Thur    Yes     17\n",
       "1  Thur     No     45\n",
       "2   Fri    Yes     15\n",
       "3   Fri     No      4\n",
       "4   Sat    Yes     42\n",
       "5   Sat     No     45\n",
       "6   Sun    Yes     19\n",
       "7   Sun     No     57"
      ]
     },
     "execution_count": 8,
     "metadata": {},
     "output_type": "execute_result"
    }
   ],
   "source": [
    "smoke_df = tips.groupby(['day','smoker'])['day'].count()\n",
    "smoke_df = smoke_df.to_frame(name='count')\n",
    "\n",
    "smoke_df = smoke_df.reset_index()\n",
    "pd.DataFrame(smoke_df)"
   ]
  },
  {
   "cell_type": "code",
   "execution_count": 9,
   "id": "da8792cb",
   "metadata": {},
   "outputs": [
    {
     "name": "stderr",
     "output_type": "stream",
     "text": [
      "C:\\Users\\kne12\\AppData\\Local\\Temp\\ipykernel_10040\\3820729728.py:1: FutureWarning: The default of observed=False is deprecated and will be changed to True in a future version of pandas. Pass observed=False to retain current behavior or observed=True to adopt the future default and silence this warning.\n",
      "  time_df = tips.groupby(['day','time'])['day'].count()\n"
     ]
    },
    {
     "data": {
      "text/html": [
       "<div>\n",
       "<style scoped>\n",
       "    .dataframe tbody tr th:only-of-type {\n",
       "        vertical-align: middle;\n",
       "    }\n",
       "\n",
       "    .dataframe tbody tr th {\n",
       "        vertical-align: top;\n",
       "    }\n",
       "\n",
       "    .dataframe thead th {\n",
       "        text-align: right;\n",
       "    }\n",
       "</style>\n",
       "<table border=\"1\" class=\"dataframe\">\n",
       "  <thead>\n",
       "    <tr style=\"text-align: right;\">\n",
       "      <th></th>\n",
       "      <th>day</th>\n",
       "      <th>time</th>\n",
       "      <th>count</th>\n",
       "    </tr>\n",
       "  </thead>\n",
       "  <tbody>\n",
       "    <tr>\n",
       "      <th>0</th>\n",
       "      <td>Thur</td>\n",
       "      <td>Lunch</td>\n",
       "      <td>61</td>\n",
       "    </tr>\n",
       "    <tr>\n",
       "      <th>1</th>\n",
       "      <td>Thur</td>\n",
       "      <td>Dinner</td>\n",
       "      <td>1</td>\n",
       "    </tr>\n",
       "    <tr>\n",
       "      <th>2</th>\n",
       "      <td>Fri</td>\n",
       "      <td>Lunch</td>\n",
       "      <td>7</td>\n",
       "    </tr>\n",
       "    <tr>\n",
       "      <th>3</th>\n",
       "      <td>Fri</td>\n",
       "      <td>Dinner</td>\n",
       "      <td>12</td>\n",
       "    </tr>\n",
       "    <tr>\n",
       "      <th>4</th>\n",
       "      <td>Sat</td>\n",
       "      <td>Lunch</td>\n",
       "      <td>0</td>\n",
       "    </tr>\n",
       "    <tr>\n",
       "      <th>5</th>\n",
       "      <td>Sat</td>\n",
       "      <td>Dinner</td>\n",
       "      <td>87</td>\n",
       "    </tr>\n",
       "    <tr>\n",
       "      <th>6</th>\n",
       "      <td>Sun</td>\n",
       "      <td>Lunch</td>\n",
       "      <td>0</td>\n",
       "    </tr>\n",
       "    <tr>\n",
       "      <th>7</th>\n",
       "      <td>Sun</td>\n",
       "      <td>Dinner</td>\n",
       "      <td>76</td>\n",
       "    </tr>\n",
       "  </tbody>\n",
       "</table>\n",
       "</div>"
      ],
      "text/plain": [
       "    day    time  count\n",
       "0  Thur   Lunch     61\n",
       "1  Thur  Dinner      1\n",
       "2   Fri   Lunch      7\n",
       "3   Fri  Dinner     12\n",
       "4   Sat   Lunch      0\n",
       "5   Sat  Dinner     87\n",
       "6   Sun   Lunch      0\n",
       "7   Sun  Dinner     76"
      ]
     },
     "execution_count": 9,
     "metadata": {},
     "output_type": "execute_result"
    }
   ],
   "source": [
    "time_df = tips.groupby(['day','time'])['day'].count()\n",
    "time_df = time_df.to_frame(name='count')\n",
    "\n",
    "time_df = time_df.reset_index()\n",
    "pd.DataFrame(time_df)"
   ]
  },
  {
   "cell_type": "markdown",
   "id": "111b9383",
   "metadata": {},
   "source": [
    "1. 사이즈 설정하기\n",
    "2. area 공간 지정하기 \n",
    "3. 각 area에 들어갈 데이터 지정하기\n",
    "4. 전체제목, 각 그래프 제목 지정하기\n",
    "5. show()"
   ]
  },
  {
   "cell_type": "code",
   "execution_count": 11,
   "id": "40df83ea",
   "metadata": {},
   "outputs": [
    {
     "data": {
      "image/png": "[encoded data removed]",
      "text/plain": [
       "<Figure size 1800x500 with 3 Axes>"
      ]
     },
     "metadata": {},
     "output_type": "display_data"
    }
   ],
   "source": [
    "fig = plt.figure(figsize=(18,5))\n",
    "\n",
    "area1 = fig.add_subplot(1,3,1)\n",
    "area2 = fig.add_subplot(1,3,2)\n",
    "area3 = fig.add_subplot(1,3,3)\n",
    "\n",
    "sns.barplot(x='day',y='count',hue='sex',data=gender_df,ax=area1)\n",
    "sns.barplot(x='day',y='count',hue='smoker',data=smoke_df,ax=area2)\n",
    "sns.barplot(x='day',y='count',hue='time',data=time_df,ax=area3)\n",
    "\n",
    "fig.suptitle('Tips Dataset - Visitor Distribution by Category',fontweight='bold')\n",
    "area1.set_title('Gender Count per Day')\n",
    "area2.set_title('Smoker Count per Day')\n",
    "area3.set_title('Meal Time Count per Day')\n",
    "\n",
    "plt.show()"
   ]
  },
  {
   "cell_type": "code",
   "execution_count": 15,
   "id": "3580429c",
   "metadata": {},
   "outputs": [
    {
     "data": {
      "image/png": "[encoded data removed]",
      "text/plain": [
       "<Figure size 1800x500 with 3 Axes>"
      ]
     },
     "metadata": {},
     "output_type": "display_data"
    }
   ],
   "source": [
    "fig = plt.figure(figsize=(18,5))\n",
    "\n",
    "area1 = fig.add_subplot(1,3,1)\n",
    "area2 = fig.add_subplot(1,3,2)\n",
    "area3 = fig.add_subplot(1,3,3)\n",
    "\n",
    "sns.countplot(x='day',hue='sex',data=tips,palette='bright',ax=area1)\n",
    "sns.countplot(x='day',hue='smoker',data=tips,palette='dark',ax=area2)\n",
    "sns.countplot(x='day',hue='time',data=tips,palette='muted',ax=area3)\n",
    "\n",
    "fig.suptitle('Tips Dataset - Visitor Distribution by Category',fontweight='bold')\n",
    "area1.set_title('Gender Count per Day')\n",
    "area2.set_title('Smoker Count per Day')\n",
    "area3.set_title('Meal Time Count per Day')\n",
    "\n",
    "plt.show()"
   ]
  },
  {
   "cell_type": "code",
   "execution_count": 18,
   "id": "fff160bb",
   "metadata": {},
   "outputs": [
    {
     "data": {
      "image/png": "[encoded data removed]",
      "text/plain": [
       "<Figure size 1800x500 with 2 Axes>"
      ]
     },
     "metadata": {},
     "output_type": "display_data"
    }
   ],
   "source": [
    "fig = plt.figure(figsize=(18,5))\n",
    "\n",
    "area1 = fig.add_subplot(1,2,1)\n",
    "area2 = fig.add_subplot(1,2,2)\n",
    "\n",
    "sns.boxplot(data=tips,x='day',y='total_bill',hue='sex',palette='bright',ax=area1)\n",
    "sns.violinplot(data=tips,x='day',y='total_bill',hue='sex',palette='dark',ax=area2)\n",
    "\n",
    "fig.suptitle('Gender-Based Distribution of Total Bill by Day',fontweight='bold')\n",
    "area1.set_title('Boxplot: Total Bill by Day and Sex')\n",
    "area2.set_title('Violinplot: Total Bill by Day and Sex')\n",
    "\n",
    "plt.show()"
   ]
  },
  {
   "cell_type": "markdown",
   "id": "23569d39",
   "metadata": {},
   "source": [
    "1. 확인할 데이터 행만 추출하기\n",
    "2. 사이즈 지정하기\n",
    "3. 제목 지정하기\n",
    "4. correlation 진행\n",
    "5. sns.heatmap 진행\n",
    "6. plt.show()"
   ]
  },
  {
   "cell_type": "code",
   "execution_count": 20,
   "id": "e66e55e6",
   "metadata": {},
   "outputs": [
    {
     "name": "stdout",
     "output_type": "stream",
     "text": [
      "            total_bill       tip      size\n",
      "total_bill    1.000000  0.675734  0.598315\n",
      "tip           0.675734  1.000000  0.489299\n",
      "size          0.598315  0.489299  1.000000\n"
     ]
    },
    {
     "data": {
      "image/png": "[encoded data removed]",
      "text/plain": [
       "<Figure size 1000x800 with 2 Axes>"
      ]
     },
     "metadata": {},
     "output_type": "display_data"
    }
   ],
   "source": [
    "final = tips.loc[:,['total_bill','tip','size']]\n",
    "plt.figure(figsize=(10,8))\n",
    "plt.title('Correlation Heatmap')\n",
    "\n",
    "correlation = final.corr()\n",
    "print(correlation)\n",
    "\n",
    "sns.heatmap(correlation, annot=True)\n",
    "plt.show()"
   ]
  }
 ],
 "metadata": {
  "kernelspec": {
   "display_name": "Python 3",
   "language": "python",
   "name": "python3"
  },
  "language_info": {
   "codemirror_mode": {
    "name": "ipython",
    "version": 3
   },
   "file_extension": ".py",
   "mimetype": "text/x-python",
   "name": "python",
   "nbconvert_exporter": "python",
   "pygments_lexer": "ipython3",
   "version": "3.11.0"
  }
 },
 "nbformat": 4,
 "nbformat_minor": 5
}
