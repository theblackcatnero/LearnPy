{
 "cells": [
  {
   "cell_type": "code",
   "execution_count": 1,
   "id": "4b8169d1",
   "metadata": {},
   "outputs": [
    {
     "name": "stdout",
     "output_type": "stream",
     "text": [
      "<이름: Riam, 나이: 20>\n",
      "<이름: Annie, 나이: 35>\n",
      "<이름: Nick, 나이: 38>\n"
     ]
    }
   ],
   "source": [
    "class Person(object):\n",
    "    def __init__(self, name, age):\n",
    "        self.name = name\n",
    "        self.age = age\n",
    "    def __str__(self):\n",
    "        return \"<이름: %s, 나이: %s>\" % (self.name, self.age)\n",
    "    \n",
    "def keyAge(person):\n",
    "    return person.age\n",
    "\n",
    "people = [Person(\"Riam\",20), Person(\"Annie\", 35), Person(\"Nick\", 38)]\n",
    "for p in sorted(people, key = keyAge):\n",
    "    print(p)"
   ]
  },
  {
   "cell_type": "code",
   "execution_count": 2,
   "id": "99e347f3",
   "metadata": {},
   "outputs": [
    {
     "name": "stdout",
     "output_type": "stream",
     "text": [
      "[-17.77777777777778, -12.222222222222223, -6.666666666666667, -1.1111111111111112, 4.444444444444445, 10.0]\n"
     ]
    }
   ],
   "source": [
    "f_temp = [0, 10, 20, 30, 40, 50]\n",
    "\n",
    "c_temp = map(lambda x : (5/9)*(x-32), f_temp)\n",
    "\n",
    "print(list(c_temp))"
   ]
  },
  {
   "cell_type": "code",
   "execution_count": 3,
   "id": "c045240d",
   "metadata": {},
   "outputs": [
    {
     "name": "stdout",
     "output_type": "stream",
     "text": [
      "[('1', 600000), ('2', 144000), ('3', 150000), ('4', 1800000)]\n"
     ]
    }
   ],
   "source": [
    "orders = [ [\"1\", \"jacket\", 5, 120000],\n",
    "           [\"2\", \"mtm\", 6, 24000], \n",
    "           [\"3\", \"pants\", 3, 50000], \n",
    "           [\"4\", \"coat\", 6, 300000] ]\n",
    "\n",
    "result = list(map(lambda x: (x[0], x[2] * x[3]), orders)) # 여기 식에 괄호 빼먹으면 안됨..\n",
    "print(result)"
   ]
  },
  {
   "cell_type": "code",
   "execution_count": 5,
   "id": "5f77cfe3",
   "metadata": {},
   "outputs": [
    {
     "name": "stdout",
     "output_type": "stream",
     "text": [
      "2 4 6 8 10 "
     ]
    }
   ],
   "source": [
    "class EvenCounter():\n",
    "    def __init__(self, low, high):\n",
    "        self.current = low if low % 2 == 0 else low + 1\n",
    "        self.high = high\n",
    "        \n",
    "    def __iter__(self):\n",
    "        return self\n",
    "    \n",
    "    def __next__(self):\n",
    "        if self.current > self.high:\n",
    "            raise StopIteration\n",
    "        else:\n",
    "            result = self.current\n",
    "            self.current += 2\n",
    "            return result\n",
    "        \n",
    "c = EvenCounter(1,10)\n",
    "for i in c:\n",
    "    print(i, end=\" \")"
   ]
  },
  {
   "cell_type": "code",
   "execution_count": 6,
   "id": "25fac330",
   "metadata": {},
   "outputs": [
    {
     "name": "stdout",
     "output_type": "stream",
     "text": [
      "Yours!\n",
      "Total pages: 1300\n"
     ]
    }
   ],
   "source": [
    "class Book:\n",
    "    title =''\n",
    "    pages = 0\n",
    "    \n",
    "    def __init__(self, title='', pages=0):\n",
    "        self.title = title\n",
    "        self.pages = pages\n",
    "        \n",
    "    def __str__(self):\n",
    "        return self.title\n",
    "    \n",
    "    def __gt__(self, other):\n",
    "        if self.pages > other.pages:\n",
    "            output = \"Mine!\"\n",
    "        else:\n",
    "            output = \"Yours!\"\n",
    "        return output\n",
    "    \n",
    "    def __add__(self, other):\n",
    "        output =  self.pages + other.pages\n",
    "        return output\n",
    "    \n",
    "book1 = Book(\"ABCD\", 600)\n",
    "book2 = Book(\"HELLO\", 700)\n",
    "print(book1 > book2)\n",
    "print(\"Total pages: \" + str(book1 + book2))\n"
   ]
  },
  {
   "cell_type": "code",
   "execution_count": 7,
   "id": "198a77ae",
   "metadata": {},
   "outputs": [
    {
     "name": "stdout",
     "output_type": "stream",
     "text": [
      "1번째 추첨:  Lose!\n",
      "2번째 추첨:  Lose!\n",
      "3번째 추첨:  Second!!\n",
      "4번째 추첨:  Lose!\n",
      "5번째 추첨:  Second!!\n",
      "6번째 추첨:  Lose!\n",
      "7번째 추첨:  Lose!\n",
      "8번째 추첨:  Second!!\n",
      "9번째 추첨:  Lose!\n",
      "10번째 추첨:  Lose!\n",
      "11번째 추첨:  Lose!\n",
      "12번째 추첨:  Lose!\n",
      "13번째 추첨:  Lose!\n",
      "14번째 추첨:  Win!!!\n",
      "15번째 추첨:  Lose!\n",
      "16번째 추첨:  Lose!\n",
      "17번째 추첨:  Second!!\n",
      "18번째 추첨:  Win!!!\n",
      "19번째 추첨:  Second!!\n",
      "20번째 추첨:  Lose!\n"
     ]
    }
   ],
   "source": [
    "import random\n",
    "\n",
    "random.seed(7)\n",
    "def draw_prize():\n",
    "    r = random.random()\n",
    "    \n",
    "    if r <= 0.5:\n",
    "        print(\"Lose!\")\n",
    "    elif r <= 0.8:\n",
    "        print(\"Second!!\")\n",
    "    else:\n",
    "        print(\"Win!!!\")\n",
    "        \n",
    "for i in range(1, 21):\n",
    "    print(f\"{i}번째 추첨: \", end=' ')\n",
    "    draw_prize()"
   ]
  }
 ],
 "metadata": {
  "kernelspec": {
   "display_name": "Python 3",
   "language": "python",
   "name": "python3"
  },
  "language_info": {
   "codemirror_mode": {
    "name": "ipython",
    "version": 3
   },
   "file_extension": ".py",
   "mimetype": "text/x-python",
   "name": "python",
   "nbconvert_exporter": "python",
   "pygments_lexer": "ipython3",
   "version": "3.11.0"
  }
 },
 "nbformat": 4,
 "nbformat_minor": 5
}
